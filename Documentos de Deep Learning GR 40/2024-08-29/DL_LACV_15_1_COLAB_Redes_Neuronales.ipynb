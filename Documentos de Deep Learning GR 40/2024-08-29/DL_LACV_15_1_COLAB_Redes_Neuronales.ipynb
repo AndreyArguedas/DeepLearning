{
  "cells": [
    {
      "cell_type": "markdown",
      "metadata": {
        "id": "2UjcQT4lsh7o"
      },
      "source": [
        "# Redes Neuronales\n",
        "\n",
        "Autor: Saúl Calderón, Juan Esquivel, Luis-Alexánder Calvo-Valverde"
      ]
    },
    {
      "cell_type": "markdown",
      "metadata": {
        "id": "WAX6KENltmjS"
      },
      "source": [
        "## Introducción\n",
        "\n",
        "Ya hemos discutido sobre el uso de modelos lineales compuestos por combinaciones lineales de funciones base fijas. Un enfoque alternativo es utilizar un número definido de funciones básicas con parámetros personalizables, permitiendo a tales funcionales cambiar tales parámetros durante el entrenamiento. El modelo más exitoso para este tipo de contexto es la red de alimentación hacia adelante o *red feed-forward* o más comúnmente conocida como el perceptrón multi-capa.\n",
        "\n",
        "El término de red neuronal tiene sus orígenes en los intintos de encontrar\n",
        "representaciones matemáticas para el procesamiento de información\n",
        "en los sistemas biológicos (McCulloch and Pitts, 1943; Widrow and\n",
        "Hoff, 1960; Rosenblatt, 1962; Rumelhart et al., 1986)"
      ]
    },
    {
      "cell_type": "markdown",
      "metadata": {
        "id": "UJ3Qh9PXs7si"
      },
      "source": [
        "## Funciones de alimentación hacia adelante o alimentación progresiva\n",
        "\n",
        "Para los modelos de regresión y clasificación vistos anteriormente,\n",
        "ya se analizó que están constituidos por combinaciones lineales de\n",
        "funciones base no lineales *fijas*, es decir,  sin parámetros\n",
        "que alteren su forma, dadas por $\\phi_{j}$, con $\\vec{x}\\in\\mathbb{R}^{D}$\n",
        "el vector de características a clasificar, $\\vec{w}$ el vector de\n",
        "pesos para la combinación lineal de las funciones base $\\phi_{j}$.\n",
        "Para plantear con una sola expresión el problema de la regresión y\n",
        "clasificación podemos escribir:"
      ]
    },
    {
      "cell_type": "markdown",
      "metadata": {
        "id": "RbdQ1zE0uwwT"
      },
      "source": [
        ">\\begin{equation}\n",
        "y\\left(\\vec{x},\\vec{w}\\right)=f\\left(\\sum_{j=0}^{M}w_{j}\\phi_{j}\\left(\\vec{x}\\right)\\right)\n",
        "\\label{eq:e1} \\tag{1}\n",
        "\\end{equation}\n",
        "\n",
        "\n"
      ]
    },
    {
      "cell_type": "markdown",
      "metadata": {
        "id": "INR3Bimfuyyt"
      },
      "source": [
        "donde en el caso de la regresión $f\\left(u\\right)$ corresponde a\n",
        "la función identidad $f\\left(u\\right)=u$ y para el caso de la clasificación\n",
        "$f\\left(u\\right)$ es una función no lineal, por ejemplo la función\n",
        "escalón $f\\left(u\\right)=\\begin{cases}\n",
        "1 & u>0\\\\\n",
        "0 & u\\leq0\n",
        "\\end{cases}$. En general, a la función $f$ se le denomina **función de activación** . Recordemos que tanto en el problema de la regresión como\n",
        "la clasificación, es necesario **estimar el arreglo de pesos**\n",
        "$\\vec{w}\\in\\mathbb{R}^{M}$."
      ]
    },
    {
      "cell_type": "markdown",
      "metadata": {
        "id": "Fjir4tUMvILy"
      },
      "source": [
        "Una extensión que incrementa la flexibilidad del modelo es hacer que\n",
        "las funciones base $\\phi_{j}$ presenten parámetros que les permitan\n",
        "ser no fijas o adaptables, por lo que las funciones bases vendrían\n",
        "dadas por $\\phi_{j}\\left(\\vec{x},\\vec{\\theta}\\right)$ con $\\vec{\\theta}\\in\\mathbb{R}^{D}$\n",
        "**el arreglo de parámetros ajustables** en entrenamiento, lo\n",
        "que hace necesario **encontrar los arreglos $\\vec{\\theta}$\n",
        "y $\\vec{w}$ durante el entrenamiento**.\n",
        "\n",
        "Existen muchas formas the construir esas funciones paramétricas $\\phi_{j}\\left(\\vec{x},\\vec{\\theta}\\right)$.\n",
        "Las redes neuronales usan como funciones base, funciones de forma\n",
        "similares a lo planteado en la función 1, por lo que\n",
        "una función base $\\phi_{j}$ tiene la forma:"
      ]
    },
    {
      "cell_type": "markdown",
      "metadata": {
        "id": "pkBGH_U0xUhM"
      },
      "source": [
        "\n",
        "\n",
        ">$\\phi_{j}\\left(\\vec{x},\\vec{\\theta}\\right)=h\\left(\\sum_{i=0}^{D}\\theta_{i}x_{i}\\right)$\n",
        "\n"
      ]
    },
    {
      "cell_type": "markdown",
      "metadata": {
        "id": "LoiNrkFN_txK"
      },
      "source": [
        "Por lo que:\n",
        "\n",
        "\n",
        "\n",
        ">\\begin{equation}\n",
        "y\\left(\\vec{x},\\vec{w}\\right)=f\\left(\\sum_{j=0}^{M}w_{j}\\:h\\left(\\sum_{i=0}^{D}\\theta_{i}x_{i}\\right)\\right)\n",
        "\\label{eq:e2} \\tag{2}\n",
        "\\end{equation}\n",
        "\n",
        "\n",
        "Donde $h\\left(u\\right)$ **es una función no lineal y su entrada\n",
        "$u$ viene dada por una combinación lineal** de las entradas con los pesos $\\vec{\\theta}$.\n",
        "Veamos más detalladamente como están dadas tales funciones base, ilustrandolo con un grafo. Observe de izquierda a derecha la figura\n",
        "\n",
        "![Diagrama de una red neuronal de dos capas (usualmente la capa de entrada\n",
        "no se incluye)](https://drive.google.com/uc?export=view&id=1-3PDRWilTX3A644YHE7C2x7j5i0Afclm)\n",
        "\n",
        "_Figura 1_\n",
        "\n",
        "La red es escencialmente un grafo, usualmente de tres capas:\n",
        "\n",
        "\n",
        "*  La capa de $D$ nodos de entrada, constituidos por los valores $x_{1},x_{2},\\ldots,x_{D}$\n",
        "del arreglo de entrada $\\vec{x}\\in\\mathbb{R}^{D}$.\n",
        "*   La capa de $M$ nodos $y_{0}^{o},y_{1}^{o},y_{2}^{o},\\ldots,y_{M}^{o}$,\n",
        "en notación vectorial dada por $\\overrightarrow{y^{o}}\\in\\mathbb{R}^{M}$, llamada capa oculta, la cual controla el nivel de generalización de la red (suavidad de la superficie de decisión).\n",
        "* La capa de salida, constituida por $K$ nodos $y_{1}^{s},\\ldots,y_{K}^{s}$, con $\\overrightarrow{y^{s}}\\in\\mathbb{R}^{K}$, lo cual corresponde al *número $K$ de clases por discriminar*, usando una notación\n",
        "de la salida de $1-K$ o ***one hot vector***.\n",
        "\n"
      ]
    },
    {
      "cell_type": "markdown",
      "metadata": {
        "id": "nAW4AMPnEqgs"
      },
      "source": [
        "## La capa oculta\n",
        "\n",
        "El grafo está definido por dos matrices de pesos $W^{o}\\in\\mathbb{R}^{D\\times M}$\n",
        "y $W^{s}\\in\\mathbb{R}^{M\\times K}$ (se usará una notación en mayúscula\n",
        "para implicar el uso de una matriz, aunque también se puede suponer\n",
        "que $W$ es un vector con dos subindices), La primer matriz de pesos\n",
        "conecta a la capa de entrada con la capa oculta, y la segunda matriz\n",
        "conecta la capa oculta con la capa de salida.\n",
        "\n",
        "Para cada nodo $j$ en la capa oculta, se define el **peso neto\n",
        "o coeficiente de activación** $p_{m}^{o}$ el cual está dado por la\n",
        "combinación lineal de los valores en los nodos de entrada:\n",
        "\n",
        "\\begin{equation}\n",
        "p_{m}^{o}\\left(\\vec{x},W^{o}\\right)=\\sum_{d=1}^{D}W_{d,m}^{o}x_{d}+W_{0,m}^{o}   \n",
        "\\label{eq:e3} \\tag{3}\n",
        "\\end{equation}\n",
        "\n",
        "donde el peso $W_{0,m}^{o}$ comúnmente se refiere como **sesgo**,\n",
        "por lo que para expresar al peso neto de la capa oculta $p_{m}^{o}$\n",
        "como únicamente una combinación lineal sin sesgo o desplazamiento,\n",
        "se reescribe:\n",
        "\n",
        "\n",
        "\n",
        "> $p_{m}^{o}\\left(\\vec{x},W^{o}\\right)=\\sum_{d=0}^{D}W_{d,m}^{o}x_{d}$\n",
        "\n",
        "\n",
        "se fija a $x_{0}=1$. El peso neto $p_{m}$ de la unidad o neurona\n",
        "$m$ es transformado usando una **función de activación** no\n",
        "lineal y diferenciable en la capa oculta $g^{o}\\left(\\cdot\\right)$\n",
        "para resultar en:\n",
        "\n",
        "\\begin{equation}\n",
        "y_{m}^{o}\\left(\\vec{x},W^{o}\\right)=g^{o}\\left(p_{m}^{o}\\left(\\vec{x},W^{o}\\right)\\right)\n",
        "\\label{eq:e4} \\tag{4}\n",
        "\\end{equation}\n",
        "\n",
        "con lo cual se puede observar que la función $y_{m}^{o}$ corresponde\n",
        "a la función base $\\phi_{m}\\left(\\vec{x},\\vec{\\theta}\\right)$,\n",
        "\n",
        "> $\\phi_{m}\\left(\\vec{x},\\vec{\\theta}\\right)=h\\left(\\sum_{j=0}^{D}\\theta_{j}x_{j}\\right)$\n",
        "\n",
        "con los parámetros de la función base dados por $\\vec{\\theta}=W^{o}$,\n",
        "y con $h=g^{o}$ y . El valor de los nodos $y_{0}^{o},y_{1}^{o},y_{2}^{o},\\ldots,y_{M}^{o}$\n",
        "se les llama las **salidas de la capa oculta**.\n",
        "\n",
        "La **función de activación** $h=g^{o}$ usualmente se escoge\n",
        "para que sea suave (derivable), y denote el estado\n",
        "de una neurona como activada o desactivada ante una entrada específica.\n",
        "Como veremos, la condición de que la función de activación sea derivable,\n",
        "es importante para poder calcular el gradiente y facilitar la minimización\n",
        "del error de clasificación. Las funciones de activación comunmente\n",
        "utilizadas son la tangente hiperbólica o la función sigmoidal, respectivamente\n",
        "dadas por:\n",
        "\n",
        "\\begin{array}{cc}\n",
        "\\tanh\\left(x\\right)=\\frac{e^{x}-e^{-x}}{e^{x}+e^{-x}} & \\textrm{sigmoid}\\left(x\\right)=\\frac{1}{1+e^{-x}}\\\\\n",
        "\\frac{\\textrm{d}}{\\textrm{d}x}\\tanh\\left(x\\right)=1-\\tanh^{2}\\left(x\\right) & \\frac{\\textrm{d}}{\\textrm{d}x}\\textrm{sigmoid}\\left(x\\right)=\\frac{e^{-x}}{\\left(1+e^{-x}\\right)^{2}}\n",
        "\\end{array}\n"
      ]
    },
    {
      "cell_type": "markdown",
      "metadata": {
        "id": "cR7dd2SAHWnZ"
      },
      "source": [
        "\n",
        "Dado el uso extensivo que haremos de la función *sigmoidal*,\n",
        "expresaremos su derivada de forma más compacta:\n",
        "\\begin{equation}\n",
        "\\frac{\\textrm{d}}{\\textrm{d}x}\\textrm{sigmoid}\\left(x\\right)=\\frac{e^{-x}}{\\left(1+e^{-x}\\right)^{2}}=\\frac{1}{\\left(1+e^{-x}\\right)}\\frac{e^{-x}}{\\left(1+e^{-x}\\right)}\n",
        "\\end{equation}\n",
        "donde tomando el término derecho de tal multiplicación:\n",
        "\n",
        "> $\\frac{e^{-x}}{\\left(1+e^{-x}\\right)}=\\frac{1+e^{-x}-1}{\\left(1+e^{-x}\\right)}$\n",
        "> $\\Rightarrow\\frac{1+e^{-x}}{\\left(1+e^{-x}\\right)}-\\frac{1}{\\left(1+e^{-x}\\right)}=\\left(1-\\frac{1}{\\left(1+e^{-x}\\right)}\\right)$\n",
        "\n",
        "por lo que entonces la ecuación se puede\n",
        "reescribir como:\n",
        "> $\n",
        "\\frac{\\textrm{d}}{\\textrm{d}x}\\textrm{sigmoid}\\left(x\\right)=\\frac{e^{-x}}{\\left(1+e^{-x}\\right)^{2}}=\\frac{1}{\\left(1+e^{-x}\\right)}\\left(1-\\frac{1}{\\left(1+e^{-x}\\right)}\\right)\n",
        "$\n",
        "\n",
        "lo cual significa que:\n",
        "\\begin{equation}\n",
        "\\frac{\\textrm{d}}{\\textrm{d}x}\\textrm{sigmoid}\\left(x\\right)=\\textrm{sigmoid}\\left(x\\right)\\left(1-\\textrm{sigmoid}\\left(x\\right)\\right)\n",
        "\\label{eq:e5} \\tag{5}\n",
        "\\end{equation}"
      ]
    },
    {
      "cell_type": "code",
      "source": [
        "from google.colab import drive\n",
        "drive.mount('/content/drive')"
      ],
      "metadata": {
        "colab": {
          "base_uri": "https://localhost:8080/"
        },
        "id": "lW6C_Od4HYbh",
        "outputId": "5c97f6d1-2c02-4966-a283-2bbba36edcd6"
      },
      "execution_count": 1,
      "outputs": [
        {
          "output_type": "stream",
          "name": "stdout",
          "text": [
            "Mounted at /content/drive\n"
          ]
        }
      ]
    },
    {
      "cell_type": "code",
      "execution_count": 2,
      "metadata": {
        "colab": {
          "base_uri": "https://localhost:8080/",
          "height": 889
        },
        "id": "R5efnmxHHWnZ",
        "outputId": "9b1a3576-1851-41c0-a97d-4779cf030f2f"
      },
      "outputs": [
        {
          "output_type": "display_data",
          "data": {
            "text/plain": [
              "<Figure size 640x480 with 1 Axes>"
            ],
            "image/png": "[encoded data removed]"
          },
          "metadata": {}
        },
        {
          "output_type": "display_data",
          "data": {
            "text/plain": [
              "<Figure size 640x480 with 1 Axes>"
            ],
            "image/png": "[encoded data removed]"
          },
          "metadata": {}
        }
      ],
      "source": [
        "%matplotlib inline\n",
        "\n",
        "import numpy as np\n",
        "import matplotlib.pyplot as plt\n",
        "import math\n",
        "\n",
        "x = np.arange(-3.0, 3.0, 0.10)\n",
        "y = []\n",
        "for i in x:\n",
        "    y.append(np.tanh(i))\n",
        "y = np.array(y)\n",
        "plt.plot(x,y, label=\"tanh\")\n",
        "z = []\n",
        "for i in x:\n",
        "    z.append(1-np.tanh(i)**2)\n",
        "z = np.array(z)\n",
        "plt.plot(x,z, label=\"derivada de tanh\")\n",
        "plt.xlabel('')\n",
        "plt.ylabel('')\n",
        "plt.title('Graficación tangente hiperbólica')\n",
        "plt.legend()\n",
        "plt.grid(True)\n",
        "plt.show()\n",
        "\n",
        "def sigmoid(pX):\n",
        "    r = 1. / (1. + math.e**(-pX))\n",
        "    return r\n",
        "\n",
        "def derSigmoid(pX):\n",
        "    r =  sigmoid(pX) * (1. - sigmoid(pX))\n",
        "    return r\n",
        "\n",
        "plt.clf()\n",
        "x = np.arange(-7.0, 7.0, 0.10)\n",
        "y = [ sigmoid(i)  for i in x]\n",
        "z = [ derSigmoid(i)  for i in x]\n",
        "plt.plot(x,y, label=\"sigmoid\")\n",
        "plt.plot(x,z, label=\"derivada de sigmoid\")\n",
        "plt.xlabel('')\n",
        "plt.ylabel('')\n",
        "plt.title('Graficación sigmoid')\n",
        "plt.legend()\n",
        "plt.grid(True)\n",
        "plt.show()\n"
      ]
    },
    {
      "cell_type": "markdown",
      "metadata": {
        "id": "oYXJogu0FbwM"
      },
      "source": [
        "## La capa de salida\n",
        "\n",
        "\n",
        "Siguiendo el grafo de la red neuronal en la Figura 1,\n",
        "se define el peso neto para la unidad de salida $\\textbf{k}$ como:\n",
        "\n",
        "\\begin{equation}\n",
        "p_{k}^{s}\\left(\\vec{x},W^{s}\\right)=\\sum_{m=0}^{M}W_{m,k}^{s}y_{m}^{o}\n",
        "\\label{eq:etiq6} \\tag{6}\n",
        "\\end{equation}\n",
        "\n",
        "para cada unidad $k=1,\\ldots,K$, donde de manera similar para la\n",
        "capa anterior, $y_{0}^{o}=1$. Observe que el peso neto de una unidad\n",
        "o neurona en la capa de salida está dado por la **combinación\n",
        "lineal de las salidas en las unidades ocultas**, usando los pesos definidos\n",
        "entre la capa oculta y de salida. La **salida de cada unidad\n",
        "de la capa de salida**, está dada por:\n",
        "\n",
        "$\n",
        "y_{k}^{s}\\left(\\vec{x},W^{s}\\right)=g^{s}\\left(p_{k}^{s}\\left(\\vec{x},W^{s}\\right)\\right)\n",
        "$\n",
        "\n",
        "donde la función de activación $g^{s}\\left(u\\right)$ para las unidades\n",
        "de salida se elige usualmente según los siguientes casos:\n"
      ]
    },
    {
      "cell_type": "markdown",
      "metadata": {
        "id": "Q0VbFmemI4vB"
      },
      "source": [
        "## Funciones de activación\n",
        "\n",
        "\n",
        "\n",
        "* Para la regresión (clasificación en dominio continuo) se escoge la **función identidad**, de modo que $g^{s}\\left(u\\right)=u$\n",
        "o **lineal**.\n",
        "\n",
        "* Para la clasificación binaria o de dos clases donde entonces $K=2$, se utiliza una función de activación de **tangente hiperbólico\n",
        "o sigmoidal**. Esto pues la red neuronal utiliza una codificación de la salida $1-K$, de modo que si por ejemplo la red quiere dar a entender\n",
        "que una entrada $\\vec{x}_{a}$ corresponde a la clase $1$, entonces las unidades de salida  deben representar lo anterior con $y_{1}\\approx1$ y $y_{2}\\approx0$, y en caso de corresponder a la clase $2$, $y_{1}\\approx0$ y $y_{2}\\approx1$.\n",
        "\n",
        "* Para la clasificación en múltiples clases $K>2$ usualmente se utiliza la función **softmax** o la de **tangente hiperbólico** anteriormente\n",
        "vista. La función softmax asocia sus entradas a un valor de salida $0\\leq y_{k}^{s}\\leq1$. La función softmax denota\n",
        "la probabilidad de que dado los valores de la muestra $\\vec{x}$ , la misma sea de la clase $C_{k}$, $\\textrm{softmax}\\left(\\vec{p^{s}},p_{k}^{s}\\right)=p\\left(C_{k}|\\vec{p^{s}}\\right)$\n",
        "y está dada por:\n",
        "> $\\textrm{softmax}\\left(\\vec{p^{s}},p_{k}^{s}\\right)=\\frac{e^{p_{k}^{s}}}{\\sum_{j}e^{p_{j}^{s}}}.$\n",
        "\n",
        "La función softmax no es más que la normalización respecto\n",
        "a las demás salidas de las unidades en la capa anterior, para $K>2$\n",
        "clases de la función sigmoidal. La función de activación\n",
        "sigmoidal sólo toma en cuenta el peso neto de su unidad, y no de las\n",
        "demás unidades en la misma capa:\n",
        "\n",
        ">$\\textrm{sigmoid}\\left(p_{k}^{s}\\right)=\\frac{1}{1+e^{-p_{k}^{s}}}$\n",
        "\n"
      ]
    },
    {
      "cell_type": "markdown",
      "metadata": {
        "id": "2hqQcRiQLF-R"
      },
      "source": [
        "Por ejemplo, en el arreglo de coeficientes de activación\n",
        " dado por $\\vec{p^{s}}=\\begin{bmatrix}3\\\\\n",
        "2\\\\\n",
        "1\n",
        "\\end{bmatrix}$, donde en este caso el compontente $p_{1}^{s}$ es el mayor y debe\n",
        "asignársele la mayor probabilidad, por lo que al hacer que $y_{k}\\left(\\vec{p^{s}},p_{k}^{s}\\right)=\\textrm{softmax}\\left(\\vec{p^{s}},p_{k}^{s}\\right)$\n",
        "para todos los valores $p_{k}^{s}$ resulta en\n",
        ">>$\n",
        "\\vec{y}_{\\textrm{softmax}}=\\begin{bmatrix}0.6652\\\\\n",
        "0.2447\\\\\n",
        "0.0900\n",
        "\\end{bmatrix}\\qquad\\vec{y}_{\\textrm{sigmoid}}=\\begin{bmatrix}0.9526\\\\\n",
        "0.8808\\\\\n",
        "0.7311\n",
        "\\end{bmatrix}\n",
        "$\n",
        "\n",
        ">donde se observa como la salida de la función *softmax* da\n",
        "un valor mucho más bajo al tercer componente cuando se compara con\n",
        "la función *sigmoidal*.\n"
      ]
    },
    {
      "cell_type": "code",
      "execution_count": 3,
      "metadata": {
        "colab": {
          "base_uri": "https://localhost:8080/"
        },
        "id": "bqaF0njFLFlt",
        "outputId": "a6bb16e0-7e86-4896-d445-e8295c1928e3"
      },
      "outputs": [
        {
          "output_type": "stream",
          "name": "stdout",
          "text": [
            "Input vector: \n",
            "[3 2 1]\n",
            "Softmax output: \n",
            "[0.66524096 0.24472847 0.09003057]\n",
            "Sigmoid output: \n",
            "[0.95257413 0.88079708 0.73105858]\n"
          ]
        }
      ],
      "source": [
        "import numpy as np\n",
        "\n",
        "a = np.array([3, 2, 1]);\n",
        "ySoftmax = np.zeros(a.size)\n",
        "ySigmoid = np.zeros(a.size)\n",
        "print('Input vector: ')\n",
        "print(a)\n",
        "\n",
        "ySoftmax[0] = np.exp(a[0])/ np.sum(np.exp(a));\n",
        "ySoftmax[1] = np.exp(a[1])/ np.sum(np.exp(a));\n",
        "ySoftmax[2] = np.exp(a[2])/ np.sum(np.exp(a));\n",
        "print('Softmax output: ')\n",
        "print(ySoftmax)\n",
        "\n",
        "# Salida con la funcion sigmoidal\n",
        "ySigmoid[0] = 1 / (1 + np.exp(-a[0]))\n",
        "ySigmoid[1] = 1 / (1 + np.exp(-a[1]))\n",
        "ySigmoid[2] = 1 / (1 + np.exp(-a[2]))\n",
        "print('Sigmoid output: ')\n",
        "print(ySigmoid)"
      ]
    },
    {
      "cell_type": "markdown",
      "metadata": {
        "id": "wdE8y21YHWnc"
      },
      "source": [
        "La red no debe tener ciclos, aunque puede incluir conexiones entre capas no consecutivas.\n",
        "\n",
        "Una cantidad menor de neuronas en la capa oculta respecto a la cantidad de neuronas de entrada implica una reducción de dimensionalidad, disminuyendo el riesgo de sobre-ajuste.\n",
        "\n",
        "Como se mencionó, las redes neuronales son conocidas también como **perceptrones multicapa**, con la diferencia principal de que las redes neuronales usan funciones de activación sigmoidales no lineales, mientras que el perceptrón usa una función de escalón o *Heaviside* (0 si x es menor que cero, y 1 de lo contrario), lo que permite que al conectar múltiples perceptrones en se serie, la función de salida de la red sea **diferenciable**, facilitando el proceso de entrenamiento.\n"
      ]
    },
    {
      "cell_type": "markdown",
      "metadata": {
        "id": "kDDAxzsyQVPM"
      },
      "source": [
        "## Entrenamiento de la red\n",
        "\n",
        "Se seguirá con la misma terminología planteada para los problemas\n",
        "de regresión lineal y clasificación en dos categorías analizados anteriormente.\n",
        "En el problema de clasificación, se define entonces una matriz de\n",
        "muestras de entrada\n",
        "\n",
        "$\n",
        "X=\\begin{bmatrix}| & | & | & \\text{|}\\\\\n",
        "\\vec{x}_{1} & \\vec{x}_{2} & \\ldots & \\vec{x}_{N}\\\\\n",
        "| & | & | & |\n",
        "\\end{bmatrix}\n",
        "$\n",
        "\n",
        " (lo que corresponde a una manera de representar al conjunto de $N$\n",
        "vectores de entrenamiento $\\left\\{ \\vec{x}_{1},\\ldots,\\vec{x}_{N}\\right\\} $)\n",
        "y el conjunto correspondiente de vectores de etiquetas (conocido de\n",
        "antemano), representado en la matriz\n",
        "\n",
        "$\n",
        "T=\\begin{bmatrix}| & | & | & \\text{|}\\\\\n",
        "\\vec{t}_{1} & \\vec{t}_{2} & \\ldots & \\vec{t}_{N}\\\\\n",
        "| & | & | & |\n",
        "\\end{bmatrix}.\n",
        "$\n",
        "\n",
        " La notación general para un modelo de clasificación está dada por\n",
        "$y\\left(\\vec{x},\\vec{w}\\right)=f\\left(\\sum_{j=1}^{M}w_{j}\\phi_{j}\\left(\\vec{x}\\right)\\right)$,\n",
        "donde en el caso de la red neuronal de dos capas, los pesos a determinar\n",
        "están dados por dos matrices $W^{o}$ y $W^{s}$ y la función de activación\n",
        "$f=g^{s}$ es una función no lineal. Tal cual se procedió anteriormente\n",
        "para los clasificadore lineales, el objetivo para construir un clasificador\n",
        "es **encontrar el vector de pesos $\\vec{w}$ que minimice la\n",
        "función de error** cuadrático (lo que corresponde a maximizar la función\n",
        "de verosimilitud):\n",
        "\n",
        "$\n",
        "E\\left(\\vec{w}\\right)=\\frac{1}{2}\\sum_{n=1}^{N}\\left\\Vert y\\left(\\vec{x}_{n},\\vec{w}\\right)-\\vec{t}_{n}\\right\\Vert ^{2},\n",
        "$\n",
        "\n",
        "donde se observa que efectivamente la función $E\\left(\\vec{w}\\right)$\n",
        "tiene su dominio en $\\mathbb{R}^{2}$ y su codominio en $\\mathbb{R}$,\n",
        "una función multivariable para la cual podemos calcular sus derivadas parciales.\n",
        "\n",
        "El mínimo en una función multivariable como el caso de\n",
        "la función $E\\left(\\vec{w}\\right)$ ocurre cuando el gradiente tiende\n",
        "a cero:\n",
        "\n",
        "$\n",
        "\\nabla E\\left(\\vec{w}_{\\textrm{opt}}\\right)=0,\n",
        "$\n",
        "\n",
        "El objetivo de la búsqueda es encontrar un vector gradiente con magnitud lo suficientemente pequeña,\n",
        "determinada por $\\epsilon$:\n",
        "\n",
        "$\n",
        "\\left\\Vert \\nabla E\\left(\\vec{w}\\right)\\right\\Vert <\\epsilon.\n",
        "$\n",
        "\n",
        "\n",
        "Dado que no es posible encontrar una solución analítica a la ecuación\n",
        "\n",
        "$\n",
        "\\nabla E\\left(\\vec{w}\\right)=0,\n",
        "$\n",
        "\n",
        "es necesario utilizar métodos numéricos para ello. La optimización\n",
        "de funciones continuas no lineales es un problema muy estudiado y\n",
        "existen muchas técnicas para lograr tal objetivo. Muchas de las técnicas\n",
        "involucran la elección de un valor inicial para el vector de pesos\n",
        "$\\vec{w}_{0}\\in\\mathbb{R}^{M}$, y con una serie de iteraciones cambiar\n",
        "tal vector *moviéndose* por el espacio $\\mathbb{R}^{M}$.\n",
        "\n",
        "Para más información sobre el algoritmo de retropropagación\n",
        "y sus orígenes, puede ver http://people.idsia.ch/~juergen/who-invented-backpropagation.html."
      ]
    },
    {
      "cell_type": "markdown",
      "metadata": {
        "id": "eNVAfKDlVQFr"
      },
      "source": [
        "## Optimización de los pesos por descenso de gradiente y retropropagación\n",
        "\n",
        "El enfoque más sencillo para escoger al vector de actualización $\\triangle\\vec{w}\\left(\\tau\\right)$\n",
        "es hacerlo igual al negativo del vector gradiente de modo que $\\triangle\\vec{w}\\left(\\tau\\right)=-\\nabla E\\left(\\vec{w}\\left(\\tau\\right)\\right)$,\n",
        "por lo que entonces:\n",
        "\n",
        "$\n",
        "\\vec{w}\\left(\\tau+1\\right)=\\vec{w}\\left(\\tau\\right)-\\alpha\\:\\nabla E\\left(\\vec{w}\\left(\\tau\\right)\\right).\n",
        "$\n",
        "\n",
        " Es común realizar varias corridas en las que el vector inicial $\\vec{w}_{0}$\n",
        "se fija con distintos valores aleatorios.\n",
        "\n",
        "En las redes neuronales de múltiples capas, recordemos que tenemos\n",
        "al menos dos matrices de pesos a optimizar ($W^{o}$ y $W^{s}$) por\n",
        "lo que al proceso de aplicar el descenso de gradiente desde la capa\n",
        "de salida hacia la capa de entrada se le conoce como **retro-propagación\n",
        "del error**. El proceso de entrenamiento de retropropagación con descenso\n",
        "de gradiente se puede dividir en las siguientes etapas:\n",
        "\n",
        "* Propagación del error para calcular las derivadas parciales desde\n",
        "la capa de salida hacia la entrada (hacia atrás).\n",
        "* Utilizar el resultado del gradiente evaluado desde la entrada para\n",
        "computar los ajustes a realizar en los pesos, lo que corresponde a\n",
        "la aplicación de la técnica de **descenso del gradiente**.\n",
        "\n",
        "\n",
        "Cabe destacar que esta técnica de retro-propagación del error puede\n",
        "ser combinada con cualquier otro método para fijar el valor nuevo\n",
        "del gradiente, por lo que es importante distinguir las dos etapas.\n",
        "\n",
        "Retomando entonces la ecuación del error definida como:\n",
        "\n",
        "\n",
        "$\n",
        "E\\left(\\vec{w}\\right)=\\frac{1}{2}\\sum_{n=1}^{N}\\left\\Vert y\\left(\\vec{x}_{n},\\vec{w}\\right)-\\vec{t}_{n}\\right\\Vert ^{2},\n",
        "$\n",
        "\n",
        "para facilitar su análisis la podemos reescribir como:\n",
        "\n",
        "$\n",
        "E\\left(\\vec{w}\\right)=\\sum_{n=1}^{N}E_{n}\\left(\\vec{w}\\right)\n",
        "$\n",
        "\n",
        "con\n",
        "\n",
        "$\n",
        "E_{n}\\left(\\vec{w}\\right)=\\frac{1}{2}\\left\\Vert y\\left(\\vec{x}_{n},\\vec{w}\\right)-t_{n}\\right\\Vert ^{2}\n",
        "$\n",
        "\n",
        " definido como el error de clasificación para una muestra $\\vec{x}_{n}$\n",
        "o **función de pérdida** (*loss function*). Con el mismo\n",
        "afán de simplificar el análisis, examinaremos posteriormente el aprendizaje\n",
        "de cada capa, desde la capa de salida a la oculta."
      ]
    },
    {
      "cell_type": "markdown",
      "metadata": {
        "id": "JdRShEwmVyRR"
      },
      "source": [
        "## Funciones de pérdida\n",
        "\n",
        "La función de pérdida define la superficie de error, y qué aspectos\n",
        "de la estimación pesan en la contribución de tal error. La salida\n",
        "del modelo para categorizar $K$ clases viene dada por un arreglo:\n",
        "\n",
        "$\n",
        "\\vec{y}=y\\left(\\vec{x}_{n},\\vec{w}\\right)\n",
        "$\n",
        "\n",
        "con dimensionalidad $\\vec{y}\\in\\mathbb{R}^{K}$, utilizando una representación\n",
        "de la salida *1-K*.  Así por ejemplo, para un modelo construído\n",
        "con el objetivo de discriminar imágenes en 3 categorías (por ejemplo\n",
        "la clasificación de imágenes de carros en categorías de Toyota, Tesla\n",
        "y Peugeot), una etiqueta del conjunto de etiquetas $T$ como por ejemplo\n",
        "$\\vec{t}_{a}=\\left[1\\:0\\:0\\right]^{T}$, por lo que si nuestro modelo\n",
        "produce una salida $\\vec{y}_{a}=y\\left(\\vec{x}_{a},\\vec{w}\\right)=\\left[0.5\\:0.4\\:0\\right]^{T}$,\n",
        "el modelo debe modificar sus parámetros $\\vec{w}$ para hacer que\n",
        "$\\vec{y}$ se acerque lo más posible a $\\vec{t}$. Pero **cómo\n",
        "se puede medir la cercanía** de $\\vec{y}$ con $\\vec{t}$? Las distancias\n",
        "$\\ell=p$ son posibles opciones, sin embargo, es deseable utilizar\n",
        "un criterio que tome en cuenta además la naturaleza excluyente de\n",
        "la clasificación, es decir, si se asigna una probabilidad alta de\n",
        "pertenencia a la muestra $\\vec{x}_{a}$ a una categoría específica\n",
        "$c$, el resto de categorías deben asignarseles probabilidades bajas\n",
        "de pertenencia.\n"
      ]
    },
    {
      "cell_type": "markdown",
      "metadata": {
        "id": "PWsOAsK4XjuM"
      },
      "source": [
        "## Aprendizaje en la capa de salida\n",
        "\n",
        "El cambio en el vector de pesos de la capa de salida $W^{s}$, analizado\n",
        "por cada componente o entrada de la matriz:\n",
        "\n",
        "\\begin{equation}\n",
        "W_{m,k}^{s}\\left(\\tau+1\\right)=W_{m,k}^{s}\\left(\\tau\\right)-\\alpha\\:\\triangle W_{m,k}^{s}\\left(\\tau\\right)\n",
        "\\end{equation}\n",
        "\n",
        "donde el vector de actualización según el método del descenso de gradiente\n",
        "está dado por:\n",
        "\n",
        "\\begin{equation}\n",
        "\\triangle W_{m,k}^{s}\\left(\\tau\\right)=\\frac{\\textrm{d}}{\\textrm{d}W_{m,k}^{s}}\\left(\\sum_{n=1}^{N}E_{n}\\left(W_{m,k}^{s}\\right)\\right)\n",
        "\\end{equation}\n",
        "\n",
        "Para simplificar la notación, para una muestra $n$, se define el\n",
        "*delta o cambio de aprendizaje* $\\delta_{k}^{s}$ como:\n",
        "\n",
        "$\n",
        "\\delta_{k',n}^{s}=\\left(y_{k',n}^{s}-t_{k',n}\\right)\\,\\left(y_{k',n}^{s}\\left(1-y_{k',n}^{s}\\right)\\right),\n",
        "$\n",
        "\n",
        "de esta manera, la actualización del peso $W_{m',k'}^{s}$ vendría\n",
        "dada por cada muestra\n",
        "como:\n",
        "\\begin{equation}\n",
        "W_{m',k'}^{s}\\left(\\tau+1\\right)=W_{m',k'}^{s}\\left(\\tau\\right)-\\alpha\\:\\triangle W_{m',k'}^{s}\\left(\\tau\\right)\n",
        "\\label{eq:e13} \\tag{13}\n",
        "\\end{equation}\n",
        "\n",
        "con\n",
        "\n",
        "$\n",
        "\\triangle W_{m',k'}^{s}\\left(\\tau\\right)=\\delta_{k',n}^{s}\\,y_{m',n}^{o}.\n",
        "$\n",
        "\n",
        "Tal notación facilitará la propagación del error como se verá posteriormente."
      ]
    },
    {
      "cell_type": "markdown",
      "metadata": {
        "id": "Y2vtiw75ZCWV"
      },
      "source": [
        "## Aprendizaje en la capa oculta\n",
        "\n",
        "Se había definido en el aprendizaje de la capa de salida el delta $\\delta_{k,n}^{s}=\\left(y_{k,n}^{s}-t_{k,n}\\right)\\,\\left(y_{k,n}^{s}\\left(1-y_{k,n}^{s}\\right)\\right),$\n",
        "\n",
        "Basado en lo anterior, podemos definir el delta en la capa oculta\n",
        "como:\n",
        "\n",
        "$\n",
        "\\delta_{m',n}^{o}=\\left(\\sum_{k=0}^{K}\\delta_{k,n}^{s}\\,W_{m',k}^{s}\\right)\\left(y_{m',n}^{o}\\left(1-y_{m',n}^{o}\\right)\\right)\n",
        "$\n",
        "\n",
        "y de manera análoga para la notación en la capa anterior, respecto\n",
        "a la ecuación de aprendizaje $W_{d',m'}^{o}\\left(\\tau+1\\right)=W_{d',m'}^{o}\\left(\\tau\\right)-\\alpha\\:\\triangle W_{d',m'}^{o}\\left(\\tau\\right),$\n",
        "definimos:\n",
        "\n",
        "$\n",
        "\\triangle W_{d',m'}^{o}\\left(\\tau\\right)=\\delta_{m',n}^{o}\\,x_{d'}\n",
        "$\n"
      ]
    },
    {
      "cell_type": "markdown",
      "metadata": {
        "id": "fuBpIXJcZuDy"
      },
      "source": [
        "## Criterio de parada\n",
        "\n",
        "El criterio de parada puede fijarse como un número de iteraciones\n",
        "$P$ a cumplir, o un máximo porcentaje de las muestras a clasificar\n",
        "incorrectamente."
      ]
    },
    {
      "cell_type": "markdown",
      "metadata": {
        "id": "S7NA7Ycqa7lN"
      },
      "source": [
        "## Ejemplo de entrenamiento\n",
        "\n",
        "La Figura siguiente muestra una red\n",
        "neuronal con una entrada $\\vec{x}\\in\\mathbb{R}^{2}$ (con $D=2$,\n",
        "sin incluir la neurona con valor unitario), con $\\vec{y^{o}}\\in\\mathbb{R}^{2}$\n",
        "(con $D=2$, sin incluir la neurona con valor unitario) y $\\vec{y^{s}}\\in\\mathbb{R}^{1}$\n",
        "($K=1$ denotando la pertenencia a una clase $C=1$ y la no pertenencia\n",
        "a la misma). A continuación se definen los valores de la entrada y\n",
        "los pesos en la capa oculta y de salida (los cuales se pueden suponer\n",
        "fueron inicializados aleatoriamente):\n",
        "\\[\n",
        "\\begin{array}{cccc}\n",
        "x_{0}=1 & t_{1}=0 & W_{0,1}^{o}=-1 & W_{0,1}^{s}=-1\\\\\n",
        "x_{1}=0 &  & W_{0,2}^{o}=0 & W_{1,1}^{s}=-2\\\\\n",
        "x_{2}=1 &  & W_{1,1}^{o}=3 & W_{2,1}^{s}=3\\\\\n",
        " &  & W_{1,2}^{o}=-2\\\\\n",
        " &  & W_{2,1}^{o}=1\\\\\n",
        " &  & W_{2,2}^{o}=2\n",
        "\\end{array}\n",
        "\\]\n",
        "\n",
        "Suponga que $\\alpha=1$.\n",
        "\n",
        "\n",
        "![Ejemplo de una red neuronal de dos capas](https://drive.google.com/uc?export=view&id=1bWufPv4UTWKBdb5tYf5PUFWt7Wyp4mYa)\n",
        "\n",
        "\n",
        "Para actualizar los pesos de la red para la iteración $\\tau=1$, realizamos\n",
        "las dos etapas: pasada hacia adelante y retropropagación del error\n",
        "\n",
        "**Pasada hacia adelante:** A partir de los datos anteriores, calculamos primero los pesos netos\n",
        "para la capa oculta:\n",
        "\n",
        "\n",
        "$\n",
        "\\begin{array}{cc}\n",
        "p_{1}^{o}= & W_{0,1}^{o}\\,x_{0}+W_{1,1}^{o}\\,x_{1}+W_{2,1}^{o}\\,x_{2}=-1*1+3*0+1*1=0\\\\\n",
        "p_{2}^{o}= & W_{0,2}^{o}\\,x_{0}+W_{1,2}^{o}\\,x_{1}+W_{2,2}^{o}\\,x_{2}=0*1+-2*0+2*1=2\n",
        "\\end{array}\n",
        "$\n",
        "\n",
        "para posteriormente calcular la salida de cada unidad oculta:\n",
        "\n",
        "\n",
        "$\n",
        "\\begin{array}{c}\n",
        "\\Rightarrow y_{1}^{o}=g^{o}\\left(p_{1}^{o}\\right)=\\frac{1}{\\left(1+e^{0}\\right)}=0.5\\\\\n",
        "\\Rightarrow y_{2}^{o}=g^{o}\\left(p_{2}^{o}\\right)=\\frac{1}{\\left(1+e^{-2}\\right)}=0.8808\n",
        "\\end{array}\n",
        "$\n",
        "\n",
        "\n",
        "Respecto a la capa de salida se tiene que:\n",
        "\n",
        "$\n",
        "\\begin{array}{cc}\n",
        "p_{1}^{s}= & W_{0,1}^{s}\\,y_{0}^{o}+W_{1,1}^{s}\\,y_{1}^{o}+W_{2,1}^{s}\\,y_{2}^{o}=-1*1+-2*0.5+3*0.8808=0.6424\\end{array}\n",
        "$\n",
        "\n",
        "\n",
        "$\n",
        "\\begin{array}{c}\n",
        "\\Rightarrow y_{1}^{s}=g^{s}\\left(p_{1}^{s}\\right)=\\frac{1}{\\left(1+e^{-0.64}\\right)}=0.6553\\end{array}\n",
        "$\n",
        "\n",
        "\n",
        "\n",
        "**Pasada hacia atrás y actualización de los pesos:** Para la capa de salida, calculamos el delta de la única unidad como:\n",
        "\n",
        "$\n",
        "\\delta_{1}^{s}=\\left(y_{1}^{s}-t_{1,1}\\right)\\,\\left(y_{1}^{s}\\left(1-y_{1}^{s}\\right)\\right)=\\left(0.6553-0\\right)\\left(0.6553\\,\\left(1-0.6553\\right)\\right)=0.148\n",
        "$\n",
        "\n",
        "\n",
        "Con base al cálculo del delta para la capa de salida, se actualizan\n",
        "los pesos en la capa de salida según la ecuación\n",
        "\n",
        "$\n",
        "W_{m,k}^{s}\\left(\\tau+1\\right)=W_{m,k}^{s}\\left(\\tau\\right)+\\triangle W_{m,k}^{s}=W_{m,k}^{s}\\left(\\tau\\right)-\\alpha\\:\\delta_{k}^{s}\\,y_{m}^{o}\n",
        "$\n",
        "\n",
        ":\n",
        "\n",
        "$\n",
        "\\begin{array}{c}\n",
        "W_{0,1}^{s}\\left(\\tau+1\\right)=W_{0,1}^{s}\\left(\\tau\\right)-1\\:\\delta_{1}^{s}\\,y_{0}^{o}=-1-0.148*1=-1-0.148*1=-1-0.148=-1.148\\\\\n",
        "W_{1,1}^{s}\\left(\\tau+1\\right)=W_{1,1}^{s}\\left(\\tau\\right)-1\\:\\delta_{1}^{s}\\,y_{1}^{o}=-2-0.148*0.5=-2-0.0740=-2.074\\\\\n",
        "W_{2,1}^{s}\\left(\\tau+1\\right)=W_{2,1}^{s}\\left(\\tau\\right)-1\\:\\delta_{1}^{s}\\,y_{2}^{o}=3-0.148*0.8808=3-0.1304=2.8696\n",
        "\\end{array}\n",
        "$\n",
        "\n",
        "\n",
        "Y para la capa oculta tenemos de forma similar, el delta para las\n",
        "dos unidades:\n",
        "\n",
        "$\n",
        "\\delta_{1}^{o}=\\left(\\sum_{k=1}^{K=1}\\delta_{k}^{s}\\,W_{1,k}^{s}\\right)\\left(y_{1}^{o}\\left(1-y_{1}^{o}\\right)\\right)=(0.148*-2)*(0.5*(1-0.5))=-0.0740\n",
        "$\n",
        "\n",
        "\n",
        "$\n",
        "\\delta_{2}^{o}=\\left(\\sum_{k=1}^{K=1}\\delta_{k}^{s}\\,W_{2,k}^{s}\\right)\\left(y_{2}^{o}\\left(1-y_{2}^{o}\\right)\\right)=(0.148*3)*(0.8808*(1-0.8808))=0.0466\n",
        "$\n",
        "\n",
        "\n",
        "Por lo que los pesos nuevos para la capa oculta según la ecuación\n",
        "\n",
        "$\n",
        "W_{d,m}^{o}\\left(\\tau+1\\right)=W_{d,m}^{o}\\left(\\tau\\right)+\\triangle W_{d,m}^{o}=W_{d,m}^{o}\\left(\\tau\\right)-\\alpha\\:\\delta_{m}^{o}\\,x_{d},\n",
        "$\n",
        "\n",
        " vienen dados por:\n",
        "\n",
        " $\n",
        "\\begin{array}{c}\n",
        "W_{0,1}^{o}\\left(\\tau+1\\right)=W_{0,1}^{o}\\left(\\tau\\right)-1\\:\\delta_{1}^{o}\\,x_{0}=-1+1*0.074*1=-1+0.074=-0.926\\\\\n",
        "W_{1,1}^{o}\\left(\\tau+1\\right)=W_{1,1}^{o}\\left(\\tau\\right)-1\\:\\delta_{1}^{o}\\,x_{1}=3+1*0.074*0=3+0=3\\\\\n",
        "W_{2,1}^{o}\\left(\\tau+1\\right)=W_{2,1}^{o}\\left(\\tau\\right)-1\\:\\delta_{1}^{o}\\,x_{2}=1+1*0.074*1=1+0.074=1.074\\\\\n",
        "W_{0,2}^{o}\\left(\\tau+1\\right)=W_{0,2}^{o}\\left(\\tau\\right)-1\\:\\delta_{2}^{o}\\,x_{0}=0-1*0.0466*1=0-0.0466=-0.0466\\\\\n",
        "W_{1,2}^{o}\\left(\\tau+1\\right)=W_{1,2}^{o}\\left(\\tau\\right)-1\\:\\delta_{2}^{o}\\,x_{1}=-2-1*0.0466*0=-2-0=-2\\\\\n",
        "W_{2,2}^{o}\\left(\\tau+1\\right)=W_{2,2}^{o}\\left(\\tau\\right)-1\\:\\delta_{2}^{o}\\,x_{2}=2-1*0.0466*1=2-0.0466=1.9534\n",
        "\\end{array}\n",
        "$\n"
      ]
    },
    {
      "cell_type": "markdown",
      "metadata": {
        "id": "Ou_tOzlYcSkM"
      },
      "source": [
        "## Descenso de gradiente estocástico\n",
        "\n",
        "\n",
        "En la ecuación general de actualización de los pesos:\n",
        "\\begin{equation}\n",
        "\\vec{w}\\left(\\tau+1\\right)=\\vec{w}\\left(\\tau\\right)-\\alpha\\:\\nabla E\\left(\\vec{w}\\left(\\tau\\right)\\right)\n",
        "\\end{equation}\n",
        "se estableció que el gradiente de error se calcula sobre las $N$\n",
        "muestras que conforman el conjunto de muestras de entrenamiento:\n",
        "\n",
        "$\n",
        "E\\left(\\vec{w}\\right)=\\frac{1}{2}\\sum_{n=1}^{N}\\left\\Vert y\\left(\\vec{x}_{n},\\vec{w}\\right)-\\vec{t}_{n}\\right\\Vert ^{2},\n",
        "$\n",
        "\n",
        "para facilitar su análisis la podemos reescribir como:\n",
        "\n",
        "$\n",
        "E\\left(\\vec{w}\\right)=\\sum_{n=1}^{N}E_{n}\\left(\\vec{w}\\right)\n",
        "$\n",
        "\n",
        "donde $E_{n}=\\frac{1}{2}\\left\\Vert y\\left(\\vec{x}_{n},\\vec{w}\\right)-t_{n}\\right\\Vert ^{2}$,\n",
        "correspondiente al error en una sola muestra. Con esto la Ecuación\n",
        "anterior se re-escribe como:\n",
        "\\begin{equation}\n",
        "\\vec{w}\\left(\\tau+1\\right)=\\vec{w}\\left(\\tau\\right)-\\alpha\\:\\frac{1}{Q}\\left(\\sum_{n=1}^{Q}\\nabla E_{n}\\left(\\vec{w}\\right)\\right)\n",
        "\\end{equation}\n",
        "Se recomienda normalizar el aporte de cada muestra al cambio del gradiente\n",
        "(multiplicando por $\\frac{1}{Q}$), para evitar que los *saltos*\n",
        "en la superficie de error dependan de la cantidad de muestras en\n",
        "el conjunto de datos.\n",
        "\n",
        "Respecto a la cantidad y las muestras del conjunto de entrenamiento\n",
        "$Q$, se definen tres enfoques de entrenamiento distintos:\n",
        "\n",
        "\n",
        "1. Descenso de gradiente en el lote: $Q=N$, en este caso, se toman en\n",
        "cuenta todas las muestras del conjunto de muestras de entrenamiento\n",
        "$N$, sin ningún criterio estocástico.\n",
        "2. Descenso de gradiente estocástico en línea: $Q=1$. Se escoge una\n",
        "sola muestra aleatoria para posteriormente actualizar los pesos.\n",
        "3. Descenso de gradiente estocástico por mini-lotes: $1<Q<N$. En este\n",
        "caso se construye un sub-conjunto de las $N$ muestras de entrenamiento\n",
        "para realizar el entrenamiento. Cuando $Q\\rightarrow1$, la señal\n",
        "de error de la función tenderá a ser más ruidosa, e inestable, mientras\n",
        "que si $Q\\rightarrow N$, la señal será más estable, pero tardará\n",
        "más en converger. $Q$ corresponde a la **cantidad de muestras\n",
        "del mini-lote**.\n",
        "\n",
        "De esta forma, el algoritmo de entrenamiento generalizado, para $R$\n",
        "pasadas o epochs, está dado por:\n",
        "\n",
        "\n",
        "1. $\\tau\\leftarrow0$\n",
        "2. Mientras $\\tau < R$:\n",
        "\n",
        ">2.1 $\\vec{w}\\left(\\tau+1\\right)\\leftarrow\\vec{w}\\left(\\tau\\right)-\\alpha\\:\\frac{1}{Q}\\left(\\sum_{n=1}^{Q}\\nabla E_{n}\\left(\\vec{w}\\right)\\right)$\n",
        "\n",
        ">2.2 $\\tau\\leftarrow\\tau+1$\n",
        "\n",
        "**Puede consultar:**\n",
        "- A Gentle Introduction to Mini-Batch Gradient Descent and How to Configure Batch Size: https://machinelearningmastery.com/gentle-introduction-mini-batch-gradient-descent-configure-batch-size/\n",
        "- An overview of gradient descent optimization algorithms: https://ruder.io/optimizing-gradient-descent/\n",
        "- How to Control the Stability of Training Neural Networks With the Batch Size : https://machinelearningmastery.com/how-to-control-the-speed-and-stability-of-training-neural-networks-with-gradient-descent-batch-size/"
      ]
    },
    {
      "cell_type": "markdown",
      "metadata": {
        "id": "dX1_kHl1dd9J"
      },
      "source": [
        "## Ajuste de parámetros y regularización en redes neuronales\n",
        "\n",
        "Sin embargo, el error de generalización no es una simple función de\n",
        "$M$, por la existencia de mínimos locales, por lo que se recomienda\n",
        "realizar una gráfica del error en un **conjunto de datos de\n",
        "validación** para evaluar el mejor modelo en función de $M$. Otra\n",
        "alternativa consisten en implementar una regularización como la analizada\n",
        "para el caso de la regresión polinomial, con una ecuación del error\n",
        "modificado como y fijando un $M$ relativamente grande:\n",
        "\n",
        "$\n",
        "\\widetilde{E}\\left(\\vec{w}\\right)=E\\left(\\vec{w}\\right)+\\frac{\\lambda}{2}\\vec{w}^{T}\\vec{w}\n",
        "$\n",
        "\n",
        "\n",
        "Una heurística común es fijar el número de neuronas en la capa oculta\n",
        "$M$ en el siguiente rango:\n",
        "\n",
        "$\n",
        "\\frac{D}{2}\\leq M\\leq2D\n",
        "$\n",
        "\n",
        "donde usualmente se consiguen los menores errores en el conjunto de\n",
        "datos de validación con valores menores."
      ]
    },
    {
      "cell_type": "code",
      "execution_count": 3,
      "metadata": {
        "id": "IIZ0TAjJHWne"
      },
      "outputs": [],
      "source": []
    }
  ],
  "metadata": {
    "colab": {
      "provenance": []
    },
    "kernelspec": {
      "display_name": "Python 3 (ipykernel)",
      "language": "python",
      "name": "python3"
    },
    "language_info": {
      "codemirror_mode": {
        "name": "ipython",
        "version": 3
      },
      "file_extension": ".py",
      "mimetype": "text/x-python",
      "name": "python",
      "nbconvert_exporter": "python",
      "pygments_lexer": "ipython3",
      "version": "3.9.13"
    }
  },
  "nbformat": 4,
  "nbformat_minor": 0
}