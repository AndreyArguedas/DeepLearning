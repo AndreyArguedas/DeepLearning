{
  "cells": [
    {
      "cell_type": "markdown",
      "metadata": {
        "id": "Y5zYLAE8LTvr"
      },
      "source": [
        "**Instituto Tecnológico de Costa Rica**\n",
        "\n",
        "**Escuela de Ingeniería en Computación**\n",
        "\n",
        "**Maestría Académica en Ciencias de la Computación**\n",
        "\n",
        "**Curso: Electiva Deep Learning**\n",
        "\n",
        "**Segundo Semestre 2024**\n",
        "\n",
        "**Profesor: Dr. Luis-Alexander Calvo-Valverde**\n",
        "\n",
        "---\n",
        "\n",
        "**Trabajo Práctico:** 1\n",
        "\n",
        "**Datos de la entrega:** Jueves 26 de setiembre 2024, a más tardar a las 6:00 pm\n",
        "\n",
        "**Medio de entrega**: Por medio del TEC-Digital.\n",
        "\n",
        "**Entregables**: Un archivo jupyter ( .IPYNB ) y todos los archivos adiconales que se requieran para correr su Cuaderno (En un archivo comprimido). En caso de requerir mucho espacio, solicitarle al profesor una carpeta en One-Drive para subir la solución.\n",
        "\n",
        "---\n",
        "\n",
        "**Estudiantes:**\n",
        "- Estudiante 1\n",
        "- Estudiante 2\n",
        "\n"
      ]
    },
    {
      "cell_type": "markdown",
      "source": [
        "## Leer esto primero.\n",
        "\n",
        "1. Usted puede cambiar el dataset que se le proporciona por otro  que sea de su interés; pero de hacerlo, se le recomienda valorarlo con el profesor para que su dataset propuesto no le agregue una complicación importante al Trabajo Práctico.\n",
        "\n",
        "1. En caso de que el diseño experimental supere en mucho la capacidad de procesamiento computacional que puede conseguir, se le recomienda hablar con el profesor para valorar opciones como disminuir el tamaño del dataset.\n",
        "\n",
        "## Indicaciones generales que deben seguir:\n",
        "\n",
        "1. Se le proporciona el conjunto de datos y una hoja electrónica con detalles del dataset.\n",
        "\n",
        "1. Realizarán clasificación y el atributo a predecir es: **melanocytic**.\n",
        "\n",
        "1. Ustedes deben ir tomando las decisiones en el proceso y documentarlas en celdas de texto y además su código debe venir ampliamente comentado.\n",
        "\n",
        "1. Se dividirá el dataset en tres conjuntos de datos: train (60%), validation (20%) y test (20%).\n",
        "\n",
        "1. Ustedes proponen el diseño experimental (quiero ver qué han entendido de este concepto fundamental)."
      ],
      "metadata": {
        "id": "oX78-S93V9nF"
      }
    },
    {
      "cell_type": "markdown",
      "metadata": {
        "id": "A17T3XC20gvf"
      },
      "source": [
        "# Parte 1.  Experimentación con capas totalmente conectadas y un selector de hiperparámetros\n",
        "\n",
        "1. Debe proponer una red neuronal artificial que solo incluya capas totalmente conectadas. Para la selección de hiperparámetros debe utilizar una herramienta especializada para esto (como keras tunner).\n",
        "\n",
        "\n",
        "\n",
        "\n"
      ]
    },
    {
      "cell_type": "code",
      "source": [],
      "metadata": {
        "id": "puRyxgoGycZ9"
      },
      "execution_count": null,
      "outputs": []
    },
    {
      "cell_type": "markdown",
      "metadata": {
        "id": "Qsid8DME3hDu"
      },
      "source": [
        "# Parte 2.  Experimentación con libertad de escogencia del tipo de capas\n",
        "\n",
        "1. En esta segunda implementación puede incluir capas tipo CNN y cualquier otra que considere aporta a la solución.\n",
        "1. Deben utilizar **una de estas herramientas** para dar seguimiento a los resultados en el caso de la red neuronal artificial -En caso de desear utilizar otra herramienta muy similar, solo solicite de previo autorización al profesor-:\n",
        "    1. https://www.wandb.com/\n",
        "    1. https://www.comet.ml/site/"
      ]
    },
    {
      "cell_type": "code",
      "source": [],
      "metadata": {
        "id": "5hobPRNfys9r"
      },
      "execution_count": null,
      "outputs": []
    },
    {
      "cell_type": "markdown",
      "source": [
        "##Criterios de evaluación:\n",
        "1. Deben presentar una implementación completa para la Parte 1 y para la Parte 2, en una de estas opciones: pytorch, tensorflow o keras (Claro que pueden usar numpy, pandas y otras bibliotecas más, para todo el tema de carga del dataset, analizarlo y pre-procesarlo). (**30 puntos cada una (total 60 ))**\n",
        "1. Uso de herramienta de seguimiento de resultados. (**10 puntos**)\n",
        "1. Uso de herramienta de selección de hiperparámetros. (**10 puntos**)\n",
        "1. Documentación de decisiones en celdas de texto y comentarios al código. (**10 puntos**)\n",
        "1. Conclusiones finales: En una celda de texto al final del cuaderno, incluya sus conclusiones más importantes de los experimentos y algunos de los gráficos que genera la herramienta seleccionada, junto con su interpretación de los mismos. (**10 puntos**)"
      ],
      "metadata": {
        "id": "IUX2-k2Zypfc"
      }
    }
  ],
  "metadata": {
    "colab": {
      "provenance": [],
      "gpuType": "T4"
    },
    "kernelspec": {
      "display_name": "Python 3",
      "name": "python3"
    },
    "language_info": {
      "codemirror_mode": {
        "name": "ipython",
        "version": 3
      },
      "file_extension": ".py",
      "mimetype": "text/x-python",
      "name": "python",
      "nbconvert_exporter": "python",
      "pygments_lexer": "ipython3",
      "version": "3.9.13"
    },
    "accelerator": "GPU"
  },
  "nbformat": 4,
  "nbformat_minor": 0
}