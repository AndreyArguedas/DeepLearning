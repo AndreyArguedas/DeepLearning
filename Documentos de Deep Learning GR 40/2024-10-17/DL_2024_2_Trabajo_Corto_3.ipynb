{
  "cells": [
    {
      "cell_type": "markdown",
      "metadata": {
        "id": "Y5zYLAE8LTvr"
      },
      "source": [
        "**Instituto Tecnológico de Costa Rica**\n",
        "\n",
        "**Escuela de Ingeniería en Computación**\n",
        "\n",
        "**Maestría Académica en Ciencias de la Computación**\n",
        "\n",
        "**Curso: Electiva Deep Learning**\n",
        "\n",
        "**Segundo Semestre 2024**\n",
        "\n",
        "**Profesor: Dr. Luis-Alexander Calvo-Valverde**\n",
        "\n",
        "---\n",
        "\n",
        "**Trabajo Práctico:** 3\n",
        "\n",
        "**Datos de la entrega:** Jueves 7 de noviembre 2024, a más tardar a las 6:00 pm\n",
        "\n",
        "**Medio de entrega**: Por medio del TEC-Digital.\n",
        "\n",
        "**Entregables**: Un archivo comprimido con todos los archivos de su solución a este Trabajo Práctico. En caso de requerir mucho espacio, solicitarle al profesor una carpeta en One-Drive para subir la solución.\n",
        "\n",
        "---\n",
        "\n",
        "**Estudiantes:**\n",
        "- Estudiante 1\n",
        "- Estudiante 2"
      ]
    },
    {
      "cell_type": "markdown",
      "source": [
        "## Leer esto primero.\n",
        "\n",
        "1. En caso de que el diseño experimental supere en mucho la capacidad de procesamiento computacional que puede conseguir, se le recomienda hablar con el profesor para valorar opciones de cómo disminuir o cambiar el dataset.\n"
      ],
      "metadata": {
        "id": "oX78-S93V9nF"
      }
    },
    {
      "cell_type": "markdown",
      "metadata": {
        "id": "A17T3XC20gvf"
      },
      "source": [
        "# Entregable 1.  Experimentación con Series Temporales\n",
        "\n",
        "1. El objetivo central es investigar y experimentar en el uso de Deep Learning para la tarea de predicción en secuencias. En particular en series temporales.\n",
        "1. Se adjunta el dataset, pero puede descargarlo y obtener información de él en: (https://www.kaggle.com/datasets/uciml/electric-power-consumption-data-set/data)  u otro de su elección. Sobre todo considerando la capacidad de procesamiento de que disponga.\n",
        "1. Usted debe proponer e implementar el Diseño Experimental, el cual debe considerar al menos tres arquitecturas: dos existentes y una tercer arquitectura propuesta por Usted, no es problema que sea alguna de las dos primeras con algún cambio propuesto por Usted. Es requisito que se programen las capas requeridas para la red neuronal artificial, no usar frameworks que con la llamada a una función retornen el resultado.\n",
        "1. Es válido utilizar código de alguna fuente como base, pero debe ser citada claramente la fuente.\n",
        "\n",
        "\n",
        "\n",
        "\n"
      ]
    },
    {
      "cell_type": "code",
      "source": [],
      "metadata": {
        "id": "puRyxgoGycZ9"
      },
      "execution_count": null,
      "outputs": []
    },
    {
      "cell_type": "markdown",
      "metadata": {
        "id": "Qsid8DME3hDu"
      },
      "source": [
        "# Entregable 2.  Breve artículo científico\n",
        "\n",
        "- Debe escribir un breve artículo científico sobre su trabajo.\n",
        "- El artículo se debe confeccionar en LaTeX, formato de IEEE Transactions.\n",
        "- Debe incluir al menos:\n",
        "  - Título\n",
        "  - Autores y afiliaciones\n",
        "  - Resumen\n",
        "  - Palabras claves\n",
        "  - Introducción\n",
        "  - Trabajos relacionados - Estado del arte\n",
        "  - Conceptos claves (Background)\n",
        "  - Materiales y métodos.\n",
        "  - Resultados\n",
        "  - Análisis de resultados\n",
        "  - Conclusiones\n",
        "  - Trabajo Futuro\n",
        "- Para el estado del arte debe incluir al menos los dos artículos que se le proporcionan adjunto a este Trabajo Práctico.\n",
        "- Debe aportar las fuentes LATEX y el PDF con su artículo.\n",
        "- Puede ser en español o inglés, no combinar."
      ]
    },
    {
      "cell_type": "markdown",
      "source": [
        "##Criterios de evaluación:\n",
        "1. Cuaderno de Jupyter con la implementación de su Diseño Experimental. Incluyendo todos los archivos necesarios para correr su propuesta. (**60 puntos**)\n",
        "1. Breve artículo científico sobre su experimentación. Incluyendo las fuentes LATEX y el PDF.  (**40 puntos**)\n"
      ],
      "metadata": {
        "id": "IUX2-k2Zypfc"
      }
    }
  ],
  "metadata": {
    "colab": {
      "provenance": [],
      "gpuType": "T4"
    },
    "kernelspec": {
      "display_name": "Python 3",
      "name": "python3"
    },
    "language_info": {
      "codemirror_mode": {
        "name": "ipython",
        "version": 3
      },
      "file_extension": ".py",
      "mimetype": "text/x-python",
      "name": "python",
      "nbconvert_exporter": "python",
      "pygments_lexer": "ipython3",
      "version": "3.9.13"
    },
    "accelerator": "GPU"
  },
  "nbformat": 4,
  "nbformat_minor": 0
}