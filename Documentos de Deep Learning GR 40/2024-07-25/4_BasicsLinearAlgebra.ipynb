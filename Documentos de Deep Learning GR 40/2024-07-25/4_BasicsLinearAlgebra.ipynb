{
  "cells": [
    {
      "cell_type": "markdown",
      "metadata": {
        "id": "jYQE37rOc539"
      },
      "source": [
        "# Matemática para Ciencia de los Datos\n",
        "\n",
        "-Profesor: Luis Alexánder Calvo Valverde.\n",
        "\n",
        "- Documento base: Saúl Calderón, Žiga Emeršič, Ángel García, Blaž Meden, Felipe Meza, Martín Solís, Juan Esquivel, Mauro Méndez, Manuel Zumbado."
      ]
    },
    {
      "cell_type": "markdown",
      "metadata": {
        "id": "Kyk8yXRcGPGs"
      },
      "source": [
        "## Video introductorio\n",
        "\n",
        "https://www.youtube.com/watch?v=k964_uNn3l0"
      ]
    },
    {
      "cell_type": "markdown",
      "metadata": {
        "id": "-ROgYfJVH5_8"
      },
      "source": [
        "# Sistemas lineales\n",
        "\n",
        "Gran parte del curso se basará en el estudio de sistemas o modelos lineales para realizar desde el filtrado de una señal (ya sea para eliminar aspectos indeseados, o mejorar cualidades de importancia), hasta la construcción de modelos de clasificación.\n",
        "\n",
        "Aunque gran parte de los sistemas reales son no lineales, modelos aproximados lineales de tales sistemas facilitan su análisis. Se presentan entonces el concepto básico de linealidad, fundamental en el desarrollo del curso.\n",
        "\n",
        "Un sistema es lineal si su respuesta ante la suma de dos entradas cualesquiera es la suma de su respuesta a cada una de las entradas por separado"
      ]
    },
    {
      "cell_type": "markdown",
      "metadata": {
        "id": "8chJbeF0dXmO"
      },
      "source": [
        "# Linealidad\n",
        "\n",
        "Sea $L\\left\\{ \\cdot\\right\\}$  un operador, $f(x)$, $f_{1}\\left(x\\right)$ y $f_{2}\\left(x\\right)$ funciones de una variable $x\\in\\mathbb{R}$ (que en señales unidimensionales corresponde usualmente al tiempo), con los escalares $\\alpha\\in\\mathbb{R}$ y $\\beta\\in\\mathbb{R}$.\n",
        "\n",
        "Se dice que el operador $L$ es lineal si cumple con las propiedades de homogeneidad (también conocida como escalamiento) y superposición\n",
        "\n",
        "Homogeneidad (escalamiento)\n",
        "$$\n",
        " L\\{\\alpha f(x)\\}= \\alpha L\\{f(x)\\}\n",
        "$$\n",
        "Superposición\n",
        "$$\n",
        " L\\{f_1(x)+f_2(x)\\}= L\\{f_1(x)\\}+L\\{f_2(x)\\}\n",
        "$$\n",
        "\n",
        "Lo cual se puede resumir en una sola ecuación como:\n",
        "\n",
        "$$L\\left\\{ \\alpha f_{1}\\left(x\\right)+\\beta f_{2}\\left(x\\right)\\right\\} =\\alpha L\\left\\{ f_{1}(x)\\right\\} +\\beta L\\left\\{ f_{2}(x)\\right\\}$$\n"
      ]
    },
    {
      "cell_type": "markdown",
      "metadata": {
        "id": "fb2fBM_twC7Y"
      },
      "source": [
        "## Ejemplos\n",
        "\n",
        "Sean los siguientes sistemas L cuya entrada es la función u(t) y la salida es g(t).\n",
        "\n"
      ]
    },
    {
      "cell_type": "markdown",
      "metadata": {
        "id": "ZObH4Wa1LSya"
      },
      "source": [
        "\n",
        "---\n",
        "\n",
        "\n",
        "*  $g(t)=5\\,u(t)$\n",
        "\n",
        "$L\\left\\{ \\alpha f_{1}\\left(x\\right)+\\beta f_{2}\\left(x\\right)\\right\\}$  $=?$  $\\alpha L\\left\\{ f_{1}(x)\\right\\} +\\beta L\\left\\{ f_{2}(x)\\right\\}$\n",
        "\n",
        "$5\\left(\\alpha u_{1}(t)+\\beta u_{2}(t)\\right)$ $=?$ $\\alpha\\,5\\,u_{1}(t)+\\beta\\,5\\,u_{2}(t)$\n",
        "\n",
        "$5\\alpha\\,u_{1}(t)+5\\beta\\,u_{2}(t)$  $=?$  $\\alpha\\,5\\,u_{1}(t)+\\beta\\,5\\,u_{2}(t)$\n",
        "\n",
        "$\\alpha\\,5\\,u_{1}(t)+\\beta\\,5\\,u_{2}(t)=\\alpha\\,5\\,u_{1}(t)+\\beta\\,5\\,u_{2}(t)$\n",
        "\n",
        "\n",
        "por lo tanto el sistema es lineal.\n",
        "\n"
      ]
    },
    {
      "cell_type": "markdown",
      "metadata": {
        "id": "rosiWjBXWW9E"
      },
      "source": [
        "---\n",
        "\n",
        "\n",
        "\n",
        "*   $g(t)=\\sqrt{u(t)}$\n",
        "\n",
        "$L\\left\\{ \\alpha f_{1}\\left(x\\right)+\\beta f_{2}\\left(x\\right)\\right\\}$ $=$ $\\alpha L\\left\\{ f_{1}(x)\\right\\} +\\beta L\\left\\{ f_{2}(x)\\right\\}$\n",
        "\n",
        "\n",
        "$\\sqrt{\\left(\\alpha u_{1}(t)+\\beta u_{2}(t)\\right)}$ $=?$ $ \\alpha\\sqrt{u_{1}(t)}+\\beta\\sqrt{u_{2}(t)}$\n",
        "\n",
        "\n",
        "por lo tanto el sistema no es lineal.\n",
        "\n",
        "\n"
      ]
    },
    {
      "cell_type": "markdown",
      "metadata": {
        "id": "vdkgDyPlWY2n"
      },
      "source": [
        "---\n",
        "\n",
        "\n",
        "\n",
        "*   $g(t)=u(t)\\,\\cos\\left(\\omega t\\right)$   \n",
        "\n",
        "$L\\left\\{ \\alpha f_{1}\\left(x\\right)+\\beta f_{2}\\left(x\\right)\\right\\} =\\alpha L\\left\\{ f_{1}(x)\\right\\} +\\beta L\\left\\{ f_{2}(x)\\right\\}$\n",
        "\n",
        "$(\\alpha u_{1}(t)+\\beta u_{2}(t))\\cos\\left(\\omega t\\right)$ $=?$ $\\alpha u_{1}(t)\\cos\\left(\\omega t\\right)+\\beta u_{2}(t)\\cos\\left(\\omega t\\right) $\n",
        "\n",
        "$(\\alpha u_{1}(t)+\\beta u_{2}(t))\\cos\\left(\\omega t\\right)$ $=$ $(\\alpha u_{1}(t)+\\beta u_{2}(t))\\cos\\left(\\omega t\\right) $\n",
        "\n",
        "por lo tanto el sistema es lineal.\n",
        "\n",
        "\n"
      ]
    },
    {
      "cell_type": "markdown",
      "metadata": {
        "id": "VaHi5JYXWgRB"
      },
      "source": [
        "\n",
        "---\n",
        "\n",
        "\n",
        "*   $g(t)=\\frac{1}{1+\\exp\\left(-u(t)\\right)}$  \n",
        "\n",
        "$L\\left\\{ \\alpha f_{1}\\left(x\\right)+\\beta f_{2}\\left(x\\right)\\right\\}$ $=$ $\\alpha L\\left\\{ f_{1}(x)\\right\\} +\\beta L\\left\\{ f_{2}(x)\\right\\}$\n",
        "\n",
        "$\\frac{1}{1+\\exp\\left(-\\alpha u_{1}(t)-\\beta u_{2}(t)\\right)}$ $=?$  $\\frac{\\alpha}{1+\\exp\\left(-u_{1}(t)\\right)}+\\frac{\\beta}{1+\\exp\\left(-u_{2}(t)\\right)}$\n",
        "\n",
        "$\\frac{1}{1+\\exp\\left(-\\alpha u_{1}(t)\\right)\\exp\\left(-\\beta u_{2}(t)\\right)}$ $=?$  $\\frac{\\alpha\\left(1+\\exp\\left(-u_{2}(t)\\right)\\right)+\\beta\\left(1+\\exp\\left(-u_{1}(t)\\right)\\right)}{\\left(1+\\exp\\left(-u_{1}(t)\\right)\\right)\\left(1+\\exp\\left(-u_{2}(t)\\right)\\right)}$\n",
        "\n",
        "\n",
        "por lo que el sistema es no lineal.\n",
        "\n"
      ]
    },
    {
      "cell_type": "markdown",
      "metadata": {
        "id": "QN3eAqAIGPGu"
      },
      "source": [
        "## Ejercicio\n",
        "\n",
        "*   $g(t)=u(t)^3$"
      ]
    },
    {
      "cell_type": "markdown",
      "metadata": {
        "id": "3uCtcT9FFQ_X"
      },
      "source": [
        "## Instalar dependencias"
      ]
    },
    {
      "cell_type": "markdown",
      "metadata": {
        "id": "TQ-ekCDYGPGv"
      },
      "source": [
        "**numpy**: https://numpy.org/"
      ]
    },
    {
      "cell_type": "code",
      "execution_count": 1,
      "metadata": {
        "id": "yqk8N_AeFRFX"
      },
      "outputs": [],
      "source": [
        "###############################################################################\n",
        "import numpy as np\n",
        "###############################################################################\n"
      ]
    },
    {
      "cell_type": "markdown",
      "metadata": {
        "id": "CrarwtFB60_N"
      },
      "source": [
        "# Vectores: magnitud, dirección, sentido\n",
        "\n",
        "**Definición:** Un vector es una colección de $n$ números ordenados, comúnmente escritos como una columna:\n",
        "$$$$\n",
        "\n",
        "$$\n",
        "x = \\begin{bmatrix}x_1 \\\\ x_2 \\\\ ... \\\\ x_n\\end{bmatrix}\n",
        "$$\n",
        "\n",
        "$$$$\n",
        "Los números $x_1, ... , x_n$ son coordenadas o componentes del vector $x$.\n",
        "$$$$\n",
        "Los componentes de un vector normalmente son números reales o complejos. En el primer caso $x_i \\in\\mathbb{R}^n$, en el segundo $x_i \\in \\mathbb{C}^n$.\n",
        "\n",
        "Los vectores también se pueden representar como líneas en espacio $n$-dimensional\n",
        "$$$$\n",
        "\n",
        "![](https://drive.google.com/uc?id=1RhR0ukfBlZrApIhE05vD2TfHjPzPL4mi)\n",
        "\n",
        "**Fuente:** https://www.fisic.ch/contenidos/elementos-matem%C3%A1ticos-b%C3%A1sicos/vectores/#:~:text=Direcci%C3%B3n%3A%20corresponde%20a%20la%20inclinaci%C3%B3n,puntos%20cardinales%20para%20la%20direcci%C3%B3n.\n",
        "\n",
        "**Dirección:** Corresponde a la inclinación de la recta y representa el ángulo entre ella y un eje horizontal imaginario.\n",
        "\n",
        "**Longitud, magnitud o módulo:** Está representado por el tamaño del vector y representa la intensidad de la magnitud.\n",
        "\n",
        "**Sentido:** Indicado por la punta de la flecha.\n",
        "\n",
        "Dos líneas que describen un vector pueden tener la misma dirección y la misma longitud, pero originarse en puntos diferentes. La convención estándar es que puntos en $\\mathbb{R}^2$, por ejemplo, son dibujados en el plano de coordenadas desde el origen (0, 0) hasta el punto $A$, donde los puntos $x_1, x_2$ de $A$, representan los componentes.\n"
      ]
    },
    {
      "cell_type": "code",
      "execution_count": 2,
      "metadata": {
        "colab": {
          "base_uri": "https://localhost:8080/"
        },
        "id": "kjkc4mSb5m04",
        "outputId": "431752ee-e2e9-431d-9fa6-a57457841742"
      },
      "outputs": [
        {
          "output_type": "stream",
          "name": "stdout",
          "text": [
            "[1. 4. 5. 6.]\n",
            "4\n"
          ]
        }
      ],
      "source": [
        "x = np.array( [1 ,4,5.,6.], dtype=np.float64 )\n",
        "print(x)\n",
        "print( len( x )  )"
      ]
    },
    {
      "cell_type": "code",
      "execution_count": 3,
      "metadata": {
        "colab": {
          "base_uri": "https://localhost:8080/"
        },
        "id": "Kl4d6MLJGPGy",
        "outputId": "c02d510d-43e4-4644-d388-fa9e76b14364"
      },
      "outputs": [
        {
          "output_type": "stream",
          "name": "stdout",
          "text": [
            "int64\n"
          ]
        }
      ],
      "source": [
        "x = np.array([3,5,7])\n",
        "print( x.dtype)"
      ]
    },
    {
      "cell_type": "code",
      "execution_count": 4,
      "metadata": {
        "colab": {
          "base_uri": "https://localhost:8080/"
        },
        "id": "dwSzOdF3GPGy",
        "outputId": "70105569-0bc4-47e6-b89d-7dd122a4c7bc"
      },
      "outputs": [
        {
          "output_type": "stream",
          "name": "stdout",
          "text": [
            "float64\n"
          ]
        }
      ],
      "source": [
        "x = np.array([3.0, 5,7.33])\n",
        "print( x.dtype)"
      ]
    },
    {
      "cell_type": "code",
      "execution_count": 5,
      "metadata": {
        "colab": {
          "base_uri": "https://localhost:8080/"
        },
        "id": "-D5-L8kLGPGy",
        "outputId": "63aa7450-3b55-4851-ca09-a84386075593"
      },
      "outputs": [
        {
          "output_type": "execute_result",
          "data": {
            "text/plain": [
              "array([3, 4, 4, 5, 7, 6])"
            ]
          },
          "metadata": {},
          "execution_count": 5
        }
      ],
      "source": [
        "s = np.array([3,4 , 4,5, 7,6])\n",
        "s\n"
      ]
    },
    {
      "cell_type": "code",
      "execution_count": 6,
      "metadata": {
        "colab": {
          "base_uri": "https://localhost:8080/"
        },
        "id": "p3uG3vcyGPGz",
        "outputId": "c75f522a-eacc-48c8-f073-104ac91a2832"
      },
      "outputs": [
        {
          "output_type": "execute_result",
          "data": {
            "text/plain": [
              "array([3.4, 4.5, 7.6])"
            ]
          },
          "metadata": {},
          "execution_count": 6
        }
      ],
      "source": [
        "s2 = np.array([3.4 , 4.5, 7.6])\n",
        "s2"
      ]
    },
    {
      "cell_type": "markdown",
      "metadata": {
        "id": "TP1_R8PzGPGz"
      },
      "source": [
        "**Tipos en numpy:** https://numpy.org/doc/stable/user/basics.types.html"
      ]
    },
    {
      "cell_type": "markdown",
      "metadata": {
        "id": "IX5GLlF4659a"
      },
      "source": [
        "# Operaciones con vectores\n",
        "\n",
        "**Definición**: El producto del vector $x$ por el escalar $\\alpha$ es un vector\n",
        "$$$$\n",
        "$$\n",
        "\\alpha x = \\alpha \\begin{bmatrix}x_1 \\\\ x_2 \\\\ ... \\\\ x_n\\end{bmatrix} =\n",
        "            \\begin{bmatrix} \\alpha x_1 \\\\ \\alpha x_2 \\\\ ... \\\\ \\alpha x_n\\end{bmatrix}\n",
        "$$\n",
        "\n",
        "$$$$\n",
        "\n",
        "Los vectores $a$ and $b$ para los que existe un escalar $\\alpha$ que cumple $a = \\alpha b$ or $b = \\alpha a$, son llamados $\\mathbf{vectores~colineales}$. Estos vectores, como su nombre sugiere, se encuentran sobre líneas paralelas."
      ]
    },
    {
      "cell_type": "code",
      "execution_count": 7,
      "metadata": {
        "colab": {
          "base_uri": "https://localhost:8080/"
        },
        "id": "0u_RoE5Y58lI",
        "outputId": "b2612ed9-1d69-42d6-99e8-9949f8ed65d0"
      },
      "outputs": [
        {
          "output_type": "stream",
          "name": "stdout",
          "text": [
            "10.0\n",
            "[1. 4. 5. 6.]\n",
            "[10. 40. 50. 60.]\n"
          ]
        }
      ],
      "source": [
        "# producto de un escalar por un vector\n",
        "a =10.\n",
        "print( a )\n",
        "x = np.array( [1.,4.,5.,6.])\n",
        "print( x )\n",
        "ax = a * x\n",
        "print( ax )"
      ]
    },
    {
      "cell_type": "code",
      "execution_count": 8,
      "metadata": {
        "colab": {
          "base_uri": "https://localhost:8080/"
        },
        "id": "vR9H7YqIGPGz",
        "outputId": "9e0dff23-ec89-4cf6-a15e-fa0c2592eaa6"
      },
      "outputs": [
        {
          "output_type": "stream",
          "name": "stdout",
          "text": [
            "[1. 4. 5. 6.]\n",
            "True\n",
            "Son colineales\n"
          ]
        }
      ],
      "source": [
        "# vectores colineales\n",
        "a = np.array( [1.,4.,5.,6.])\n",
        "b = np.array( [10.,40.,50.,60.])\n",
        "alpha = 0.1\n",
        "print( alpha * b )\n",
        "comparacion = np.array_equal( a , alpha * b)\n",
        "print( comparacion )\n",
        "# 1 es True y 0 es False\n",
        "if comparacion == True:\n",
        "  print(\"Son colineales\")\n",
        "else:\n",
        "  print(\"No son colineales\")"
      ]
    },
    {
      "cell_type": "code",
      "execution_count": 9,
      "metadata": {
        "colab": {
          "base_uri": "https://localhost:8080/"
        },
        "id": "WVKibY9Hcq_R",
        "outputId": "6b58226c-d6f7-4915-f4a4-652675a80e64"
      },
      "outputs": [
        {
          "output_type": "stream",
          "name": "stdout",
          "text": [
            "True\n",
            "3.0\n",
            "3.4\n",
            "2\n",
            "2\n"
          ]
        }
      ],
      "source": [
        "print( max( True, False)  )\n",
        "print(  17.0 // 5.0)\n",
        "print( 17.0 / 5.0 )\n",
        "print( 19 // 8)\n",
        "print( 17 % 5 )"
      ]
    },
    {
      "cell_type": "code",
      "execution_count": 10,
      "metadata": {
        "colab": {
          "base_uri": "https://localhost:8080/"
        },
        "id": "u1RTHBLbGPG0",
        "outputId": "7605909c-5aa5-42ad-ed4d-816d1aa6313a"
      },
      "outputs": [
        {
          "output_type": "stream",
          "name": "stdout",
          "text": [
            "0.3\n"
          ]
        }
      ],
      "source": [
        "porcentajeGrasa = 0.30\n",
        "print( porcentajeGrasa)"
      ]
    },
    {
      "cell_type": "markdown",
      "metadata": {
        "id": "DwxhkwGG65zy"
      },
      "source": [
        "## Suma de vectores\n",
        "\n",
        "**Definición:** La suma de dos vectores $x$ y $y$ es un vector (aplica para la resta - )\n",
        "$$$$\n",
        "$$\n",
        " x + y = \\begin{bmatrix}x_1 \\\\ x_2 \\\\ ... \\\\ x_n\\end{bmatrix} +\n",
        "         \\begin{bmatrix}y_1 \\\\ y_2 \\\\ ... \\\\ y_n\\end{bmatrix} =\n",
        "         \\begin{bmatrix} x_1 + y_1 \\\\ x_2 + y_2 \\\\ ... \\\\ x_n + y_n \\end{bmatrix}\n",
        "$$\n",
        "$$$$\n",
        "**Atención!** Los vectores que se suman deben tener el mismo número de componentes."
      ]
    },
    {
      "cell_type": "code",
      "execution_count": 11,
      "metadata": {
        "colab": {
          "base_uri": "https://localhost:8080/"
        },
        "id": "lmtNkXJrDn0I",
        "outputId": "e5f6ec52-cc63-4229-b2d4-d65649dc6bbd"
      },
      "outputs": [
        {
          "output_type": "stream",
          "name": "stdout",
          "text": [
            "[11. 44. 55. 66.]\n",
            "[ 9. 36. 45. 54.]\n",
            "[11. 44. 55. 66.]\n"
          ]
        }
      ],
      "source": [
        "\n",
        "x = np.array( [1,4,5,6], dtype=np.float64)\n",
        "y = np.array( [10,40,50,60], dtype=np.float64)\n",
        "z1 = x + y\n",
        "print( z1 )\n",
        "z2 = y - x\n",
        "print( z2 )\n",
        "\n",
        "# Otra forma\n",
        "z3 = np.add(x, y)\n",
        "print(z3)"
      ]
    },
    {
      "cell_type": "markdown",
      "metadata": {
        "id": "cQ3bycsH7EuL"
      },
      "source": [
        "## Vector nulo\n",
        "\n",
        "**Definición:** El vector $0$ se define como el vector que causa $a + 0 = a$ y $0 + a = a$\n",
        "para cada vector $a$. Todos los componentes del vector cero son igual a $0$. Cada vector $a$ tiene un vector opuesto $-a$ tal que $a + (-a) = 0$. La diferencia de dos vectores $a$ y $b$ es la suma $a + (-b)$ y se escribe de la misma forma que la operación básica para escalares $a - b$.\n",
        "$$$$\n",
        "$$\n",
        " a + 0 = \\begin{bmatrix}a_1 \\\\ a_2 \\\\ ... \\\\ a_n\\end{bmatrix} +\n",
        "         \\begin{bmatrix} 0 \\\\ 0 \\\\ ... \\\\ 0\\end{bmatrix} =\n",
        "         \\begin{bmatrix} a_1 \\\\ a_2 \\\\ ... \\\\ a_n\\end{bmatrix} = 0 + a = a\n",
        "$$"
      ]
    },
    {
      "cell_type": "code",
      "execution_count": 12,
      "metadata": {
        "colab": {
          "base_uri": "https://localhost:8080/"
        },
        "id": "qaGD4le-EoWG",
        "outputId": "b800a0b8-eeaa-428b-ba57-18e542f949a0"
      },
      "outputs": [
        {
          "output_type": "stream",
          "name": "stdout",
          "text": [
            "[1. 4. 5. 6. 4. 3. 8.]\n",
            "[0. 0. 0. 0. 0. 0. 0.]\n",
            "[1. 4. 5. 6. 4. 3. 8.]\n",
            "largo 7\n",
            "[0. 0. 0. 0. 0. 0. 0. 0. 0. 0. 0. 0. 0. 0. 0. 0. 0. 0. 0. 0. 0. 0. 0. 0.\n",
            " 0. 0. 0. 0. 0. 0. 0. 0. 0.]\n"
          ]
        }
      ],
      "source": [
        "x = np.array( [1.,4.,5.,6. , 4. , 3., 8.])\n",
        "print( x )\n",
        "largo = x.shape[0]\n",
        "nulo = np.zeros( largo  )\n",
        "print( nulo )\n",
        "z = x + nulo\n",
        "print( z )\n",
        "print( \"largo\", largo)\n",
        "print(np.zeros(33))"
      ]
    },
    {
      "cell_type": "code",
      "execution_count": 13,
      "metadata": {
        "colab": {
          "base_uri": "https://localhost:8080/"
        },
        "id": "0QxZDCXAGPG1",
        "outputId": "6d82cff0-d80d-41d7-dfa7-458d44495560"
      },
      "outputs": [
        {
          "output_type": "stream",
          "name": "stdout",
          "text": [
            "[0.77132064 0.02075195 0.63364823]\n",
            "[0.74880388 0.49850701 0.22479665]\n",
            "[0.19806286 0.76053071 0.16911084]\n"
          ]
        }
      ],
      "source": [
        "x = np.random.rand(4)\n",
        "x\n",
        "np.random.seed(10)\n",
        "print( np.random.rand(3))\n",
        "print( np.random.rand(3))\n",
        "print( np.random.rand(3))\n",
        "\n"
      ]
    },
    {
      "cell_type": "markdown",
      "metadata": {
        "id": "JztoLpTSGPG1"
      },
      "source": [
        "**Recurso adicional:**\n",
        "- Video: Vectores, ¿qué son realmente? Esencia del álgebra lineal\n",
        "    - Inglés: https://www.youtube.com/watch?v=fNk_zzaMoSs&list=PLZHQObOWTQDPD3MizzM2xVFitgF8hE_ab&index=1\n",
        "    - Español: https://www.youtube.com/watch?v=wiuEEkP_XuM&list=PLIb_io8a5NB2DddFf-PwvZDCOUNT1GZoA&index=2\n",
        "\n",
        "**Nota**: Existen varios de estos videos en español\n",
        "- https://www.youtube.com/@3blue1brownespanol\n"
      ]
    },
    {
      "cell_type": "markdown",
      "metadata": {
        "id": "frWoMOaz7EcR"
      },
      "source": [
        "## Combinación lineal de vectores\n",
        "\n",
        "Cuando el producto por un escalar es combinado en secuencia con operaciones con otros vectores, obtenemos combinaciones lineales.\n",
        "\n",
        "\n",
        "**Definición:** La combinación lineal de vectores $x$ e $y$ es la suma $\\alpha x + \\beta y$.\n",
        "\n",
        "$$\n",
        " \\alpha x + \\beta y = \\alpha \\begin{bmatrix}x_1 \\\\ x_2 \\\\ ... \\\\ x_n\\end{bmatrix} +\n",
        "       \\beta \\begin{bmatrix}y_1 \\\\ y_2 \\\\ ... \\\\ y_n\\end{bmatrix}\n",
        "$$\n",
        "$$$$\n",
        "De manera similar, una combinación lineal de varios vectores puede ser construída en secuencia, e.g.\n",
        "$\\alpha a + \\beta b + · · · + \\zeta z$ es una combinación lineal de vectores $a, b, ... , z$.\n",
        "\n",
        "\n",
        "**Atención!** Todos los vectores en la combinación lineal deben tener la misma cantidad de componentes\n",
        "\n",
        "\n"
      ]
    },
    {
      "cell_type": "code",
      "execution_count": 14,
      "metadata": {
        "colab": {
          "base_uri": "https://localhost:8080/"
        },
        "id": "CDOeGiu0EkgC",
        "outputId": "babdc9c4-8648-41c1-cb7b-5d5b6dedd676"
      },
      "outputs": [
        {
          "output_type": "stream",
          "name": "stdout",
          "text": [
            "[ 3. 12. 15. 18.]\n",
            "[ 70. 280. 350. 420.]\n",
            "[ 73. 292. 365. 438.]\n"
          ]
        }
      ],
      "source": [
        "x = np.array( [1,4,5,6], dtype=np.float64)\n",
        "y = np.array( [10,40,50,60], dtype=np.float64)\n",
        "alpha = 3.\n",
        "beta = 7.\n",
        "parte1 = ( alpha * x )\n",
        "parte2 = (beta * y)\n",
        "r =  parte1 + parte2\n",
        "print(parte1)\n",
        "print(parte2)\n",
        "print(r)\n"
      ]
    },
    {
      "cell_type": "markdown",
      "metadata": {
        "id": "s_ixDh1n7ELi"
      },
      "source": [
        "## Producto escalar (producto punto, producto interno)\n",
        "\n",
        "\n",
        "**Definición:** El producto escalar de vectores\n",
        "\n",
        "$x = \\begin{bmatrix}x_1 \\\\ x_2 \\\\ ... \\\\ x_n\\end{bmatrix}$ e\n",
        "$y = \\begin{bmatrix}y_1 \\\\ y_2 \\\\ ... \\\\ y_n\\end{bmatrix}$\n",
        "\n",
        "es el número $x \\cdot y = x_1y_1 + x_2y_2 + · · · + x_ny_n$.  \n",
        "\n",
        "\n",
        "**Atención!** Los vectores utilizados en el producto escalar deben tener el mismo número de componentes.\n",
        "\n",
        "$$$$\n",
        "\n",
        "Puede ser fácilmente verificado que el producto escalar tiene las siguientes propiedades:\n",
        "    \n",
        "$$$$\n",
        "$\\mathbf{Propiedad~1:}$ Conmutativa: $x · y = y · x$.\n",
        "$$$$\n",
        "$\\mathbf{Propiedad~2:}$ Distributiva: $x · (y + z) = x · y + x · z$.\n",
        "$$$$\n",
        "$\\mathbf{Propiedad~3:}$ Asociativa: $x · (\\alpha y) = \\alpha(x · y) = (\\alpha x) · y$.\n",
        "\n",
        "**Recurso adicional:**\n",
        "- Video: Producto escalar (solo el inicio del video)\n",
        "    - Inglés: https://www.youtube.com/watch?v=LyGKycYT2v0&list=PLZHQObOWTQDPD3MizzM2xVFitgF8hE_ab&index=9\n",
        "    - Español: https://www.youtube.com/watch?v=quYTdFWTN1g&list=PLIb_io8a5NB2DddFf-PwvZDCOUNT1GZoA&index=10\n"
      ]
    },
    {
      "cell_type": "code",
      "execution_count": 15,
      "metadata": {
        "colab": {
          "base_uri": "https://localhost:8080/"
        },
        "id": "LknCHIiutZoU",
        "outputId": "c323d15f-1012-487e-c8d3-268f860fbedd"
      },
      "outputs": [
        {
          "output_type": "stream",
          "name": "stdout",
          "text": [
            "94.0\n"
          ]
        }
      ],
      "source": [
        "x = np.array( [1,4,5,6], dtype=np.float64)\n",
        "y = np.array( [5,7,5,6], dtype=np.float64)\n",
        "r =  np.dot( x ,  y )\n",
        "print(r)"
      ]
    },
    {
      "cell_type": "markdown",
      "metadata": {
        "id": "gRg8HuoN7Whu"
      },
      "source": [
        "## Largo, norma\n",
        "En el conjunto $\\mathbb{R}^2$ se puede utilizar la regla de Pitágoras para calcular el largo de un vector. Los catetos están formados por el eje de las $x$, siguiendo la distancia indicada por el vector, y una línea paralela al eje $y$. De esta forma, se tiene un triángulo rectangular cuya hipotenusa es el vector en cuestión. Su largo, por ende, se puede calcular como $\\sqrt{x^2 + y^2}$.\n",
        "\n",
        "$$$$\n",
        "Para vectores en más dimensiones $\\mathbb{R}^N$, el largo del vector puede ser calculado de manera similar:\n",
        "$x_1^2 + x_2^2 + ... + x_n^2$, que puede ser expresado en forma de vector como $\\sqrt{x \\cdot x}$.\n",
        "    \n",
        "\n",
        "\n",
        "$$$$\n",
        "$\\mathbf{Definicion:}$ El largo del vector x es\n",
        "$ \\|x\\| = \\sqrt{x \\cdot x}$.\n",
        "$$$$\n",
        "\n",
        "\n",
        "$$$$\n",
        "$\\mathbf{Definicion:}$ El vector unitario tiene un largo de $1$.\n",
        "$$$$"
      ]
    },
    {
      "cell_type": "markdown",
      "metadata": {
        "id": "SIgZCNaRMT7W"
      },
      "source": [
        "**Norma**\n",
        "\n",
        "El concepto de largo (longitud, magnitud o módulo) visto anteriormente, se conoce como la distancia Eucliciana o norma $\\ell_{2}$, la cual se refiere al largo de un vector, como vimos. La norma euclidiana se puede reescribir como:\n",
        "\n",
        "$$\\left\\Vert x\\right\\Vert _{2}=\\sqrt{\\sum_{i=1}^{n}x_{i}^{2}}$$\n",
        "\n",
        "\n",
        "Generalizando la ecuación anterior como una norma $\\ell_{p}$, con $p\\geq1$, se tiene que:\n",
        "\n",
        "$$\\left\\Vert x\\right\\Vert _{p}=\\left(\\sum_{i=1}^{n}\\left|x_{i}\\right|^{p}\\right)^{1/p}$$\n",
        "\n",
        "A partir de tal definición general, se tiene la norma $\\ell_{1}$ también conocida como Manhattan o distancia de bloques:\n",
        "\n",
        "$$\\left\\Vert x\\right\\Vert _{1}=\\left(\\sum_{i=1}^{n}\\left|x_{i}\\right|\\right)$$\n",
        "\n",
        "La norma $\\ell_{\\infty}$ se define entonces como:\n",
        "\n",
        "$$\\left\\Vert x\\right\\Vert _{\\infty}=\\left(\\sum_{i=1}^{n}\\left|x_{i}\\right|^{\\infty}\\right)^{1/\\infty}$$\n",
        "\n",
        "\n"
      ]
    },
    {
      "cell_type": "code",
      "execution_count": 16,
      "metadata": {
        "colab": {
          "base_uri": "https://localhost:8080/"
        },
        "id": "Fruda2sTt9g4",
        "outputId": "9358b15f-0fc5-41e7-fe4f-c38128e2b517"
      },
      "outputs": [
        {
          "output_type": "stream",
          "name": "stdout",
          "text": [
            "7.874007874011811\n",
            "7.230426792525689\n",
            "6.999999999999999\n"
          ]
        }
      ],
      "source": [
        "from numpy import linalg as LA\n",
        "\n",
        "x = np.array( [ 2. , 7., -3.] )\n",
        "\n",
        "# Norma 2\n",
        "normaX = LA.norm(x,2)\n",
        "print(normaX)\n",
        "\n",
        "# Norma 3\n",
        "normaX = LA.norm(x,3)\n",
        "print(normaX)\n",
        "\n",
        "# Norma 15\n",
        "normaX = LA.norm(x,55)\n",
        "print(normaX)\n",
        "\n"
      ]
    },
    {
      "cell_type": "code",
      "execution_count": 17,
      "metadata": {
        "colab": {
          "base_uri": "https://localhost:8080/"
        },
        "id": "KTeR8hKvGPG2",
        "outputId": "65d855ba-cd02-45d6-e646-0c16f1b13e66"
      },
      "outputs": [
        {
          "output_type": "stream",
          "name": "stdout",
          "text": [
            "1.0\n"
          ]
        }
      ],
      "source": [
        "# Vector unitario\n",
        "x = np.array( [1.,0.,0.] )\n",
        "normaX = LA.norm(x)\n",
        "print(normaX)\n"
      ]
    },
    {
      "cell_type": "markdown",
      "metadata": {
        "id": "wCl9eJ7k7YVZ"
      },
      "source": [
        "## Ángulo entre dos vectores\n",
        "$$$$\n",
        "$\\mathbf{Teorema:}$ Los vectores $x$ y $y$ son ortogonales (o rectangulares) exactamente cuando  $x · y = 0$.\n",
        "$$$$\n",
        "$\\mathbf{Teorema:}$ Si denotamos el ángulo entre dos vectores $x$ y $y$ como $\\varphi$ entonces\n",
        "$$$$\n",
        "$$\\frac{x \\cdot y}{\\|x\\| \\cdot \\|y\\|} = \\cos \\varphi$$"
      ]
    },
    {
      "cell_type": "markdown",
      "metadata": {
        "id": "NImxSJuz2H36"
      },
      "source": [
        "Función seno:\n",
        "sin(θ) = Opuesto / Hipotenusa\n",
        "\n",
        "Función coseno:\n",
        "cos(θ) = Adyacente / Hipotenusa\n",
        "\n",
        "Función tangente:\n",
        "tan(θ) = Opuesto / Adyacente\n",
        "\n",
        "Función secante:\n",
        "sec(θ) = Hipotenusa / Adyacente\t(=1/cos)\n",
        "\n",
        "Función cosecante:\n",
        "csc(θ) = Hipotenusa / Opuesto\t(=1/sin)\n",
        "\n",
        "Función cotangente:\n",
        "cot(θ) = Adyacente / Opuesto\t(=1/tan)\n"
      ]
    },
    {
      "cell_type": "code",
      "execution_count": 18,
      "metadata": {
        "colab": {
          "base_uri": "https://localhost:8080/",
          "height": 489
        },
        "id": "UT2uKqHyxqQI",
        "outputId": "03c3642c-a0cd-490e-900d-8cf261082351"
      },
      "outputs": [
        {
          "output_type": "display_data",
          "data": {
            "text/plain": [
              "<Figure size 640x480 with 1 Axes>"
            ],
            "image/png": "[encoded data removed]"
          },
          "metadata": {}
        },
        {
          "output_type": "stream",
          "name": "stdout",
          "text": [
            "coseno del ángulo_Fi:  0.0\n",
            "En Radianes el ángulo_Fi:  1.5707963267948966\n",
            "En Grados el ángulo_Fi:  90.0\n"
          ]
        }
      ],
      "source": [
        "import matplotlib.pyplot as plt\n",
        "import numpy as np\n",
        "from numpy import linalg as LA\n",
        "import math\n",
        "%matplotlib inline\n",
        "\n",
        "# graficar\n",
        "X = np.array([0.,0.] )\n",
        "Y = np.array([0.,0.] )\n",
        "U = np.array([0.,4.] )\n",
        "V = np.array([7.,0.] )\n",
        "\n",
        "\n",
        "fig, ax = plt.subplots()\n",
        "ax.quiver(X, Y, U, V,color=[\"r\",\"b\"],angles='xy', scale_units='xy', scale=1)\n",
        "ax.axis([-10.,10.,-10.,10.])\n",
        "ax.set_aspect('equal')\n",
        "plt.show()\n",
        "\n",
        "x = np.array( [U[0], V[0] ] )\n",
        "y = np.array( [U[1], V[1] ] )\n",
        "cosFI = np.dot(x,y) / ( np.dot( LA.norm(x), LA.norm(y) ))\n",
        "print(\"coseno del ángulo_Fi: \",  cosFI )\n",
        "radianes = math.acos(cosFI)\n",
        "print(\"En Radianes el ángulo_Fi: \", radianes)\n",
        "grados = math.degrees( radianes )\n",
        "print(\"En Grados el ángulo_Fi: \", grados )\n",
        "\n",
        "# Trigonometría en Python\n",
        "# https://elclubdelautodidacta.es/wp/2013/03/trigonometria-en-python/\n",
        "\n",
        "# Radianes y grados\n",
        "# https://www.montereyinstitute.org/courses/DevelopmentalMath/TEXTGROUP-15-19_RESOURCE/U19_L2_T1_text_final_es.html\n"
      ]
    },
    {
      "cell_type": "markdown",
      "metadata": {
        "id": "pUaW-h-KGPHI"
      },
      "source": [
        "Los radianes y los grados están relacionados por $360^{\\circ} = 2 \\cdot \\pi \\cdot radianes$.\n",
        "\n",
        "Si se quiere convertir de grados a radianes, se multiplica la medida en grados por $\\frac{\\pi}{180^{\\circ}}$\n",
        "\n",
        "Si se quiere convertir de radianes a grados, se multiplica la medida en radianes por $\\frac{180^{\\circ}}{\\pi}$"
      ]
    },
    {
      "cell_type": "markdown",
      "metadata": {
        "id": "AH_sp76k7clR"
      },
      "source": [
        "## Dirección de un vector\n",
        "$$$$\n",
        "$\\mathbf{Teorema:}$ Un vector $x$ puede ser normalizado al dividir sus componentes por el largo $\\|x\\|$: $x_{norma} = \\frac{x}{\\|x\\|}$.\n",
        "El vector $x_{norma}$ representa la dirección del vector inicial.\n",
        "    \n",
        "$$$$\n",
        "Podemos escribir los componentes del vector normalizado como cosenos direccionales:\n",
        "        \n",
        "$$x_{norma} = \\begin{bmatrix} \\frac{x_1}{\\|x\\|} \\\\ \\frac{x_2}{\\|x\\|} \\\\ \\frac{x_3}{\\|x\\|} \\end{bmatrix}\n",
        "= \\begin{bmatrix} \\cos \\alpha \\\\ \\cos \\beta \\\\ \\cos \\gamma \\end{bmatrix}, $$\n",
        "\n",
        "donde $\\alpha, \\beta, \\gamma$ son los ángulos direccionales definidos con respecto a los ejes base.\n"
      ]
    },
    {
      "cell_type": "code",
      "execution_count": 19,
      "metadata": {
        "colab": {
          "base_uri": "https://localhost:8080/",
          "height": 489
        },
        "id": "GUOIzpHnLBRs",
        "outputId": "cb0fcab5-ede1-4abe-8ff2-e7745dcea6fa"
      },
      "outputs": [
        {
          "output_type": "display_data",
          "data": {
            "text/plain": [
              "<Figure size 640x480 with 1 Axes>"
            ],
            "image/png": "[encoded data removed]"
          },
          "metadata": {}
        },
        {
          "output_type": "stream",
          "name": "stdout",
          "text": [
            "X:  [4. 7.]\n",
            "X_norma:  [0.49613894 0.86824314]\n",
            "Vector normalizado en Grados:  60.25511870305777 29.74488129694221\n"
          ]
        }
      ],
      "source": [
        "x = np.array( [4.] )\n",
        "y = np.array( [ 7.] )\n",
        "\n",
        "fig, ax = plt.subplots()\n",
        "origen= np.array([0.] )\n",
        "ax.quiver(origen, origen, x, y, color=[\"r\"],angles='xy', scale_units='xy', scale=1)\n",
        "ax.axis([-10.,10.,-10.,10.])\n",
        "ax.set_aspect('equal')\n",
        "plt.show()\n",
        "\n",
        "X = np.array( [ x[0], y[0] ] )\n",
        "print( \"X: \", X )\n",
        "normaX = LA.norm(X)\n",
        "X_norm = X / normaX\n",
        "print( \"X_norma: \", X_norm)\n",
        "coseno_a = X_norm[0]\n",
        "coseno_b = X_norm[1]\n",
        "\n",
        "radianes_a = math.acos(coseno_a)\n",
        "radianes_b = math.acos(coseno_b)\n",
        "\n",
        "grados_a = math.degrees( radianes_a )\n",
        "grados_b = math.degrees( radianes_b )\n",
        "\n",
        "print(\"Vector normalizado en Grados: \", grados_a, grados_b )\n",
        "\n"
      ]
    },
    {
      "cell_type": "markdown",
      "metadata": {
        "id": "rkToAidB7f0b"
      },
      "source": [
        "## Producto vectorial (producto cruz)\n",
        "\n",
        "**Definición:** El producto de dos vectores $a$ y $b$ es otro vector:\n",
        "\n",
        "$$ a \\times b = \\begin{bmatrix}a_1 \\\\ a_2 \\\\ a_3\\end{bmatrix} \\times\n",
        "              \\begin{bmatrix} b_1 \\\\ b_2 \\\\ b_3\\end{bmatrix} =\n",
        "              \\begin{bmatrix}a_2 b_3 - a_3 b_2 \\\\ a_3 b_1 - a_1 b_3 \\\\ a_1 b_2 - a_2 b_1\\end{bmatrix} $$\n",
        "\n",
        "\n",
        "El producto cruz $a \\times b$ es un vector que es perpendicular al plano en el que los vectores $a$ y $b$ se encuentran.\n",
        "\n",
        "Su largo es igual al paralelogramo que los vectores $a$ y $b$ contienen.\n"
      ]
    },
    {
      "cell_type": "code",
      "execution_count": 20,
      "metadata": {
        "colab": {
          "base_uri": "https://localhost:8080/"
        },
        "id": "U6exHvUgLo5Q",
        "outputId": "35382e8b-d61b-4fe3-8303-29695599fd34"
      },
      "outputs": [
        {
          "output_type": "stream",
          "name": "stdout",
          "text": [
            "[ -5.  15. -10.]\n"
          ]
        }
      ],
      "source": [
        "x = np.array( [1. , 3. , 4. ])\n",
        "y = np.array( [4. , 2. , 1. ])\n",
        "r = np.cross( x, y)\n",
        "print( r )"
      ]
    },
    {
      "cell_type": "markdown",
      "metadata": {
        "id": "vzvSXTdgGPHJ"
      },
      "source": [
        "**Video: ** https://www.youtube.com/watch?v=eu6i7WJeinw&list=PLZHQObOWTQDPD3MizzM2xVFitgF8hE_ab&index=11"
      ]
    },
    {
      "cell_type": "code",
      "execution_count": 20,
      "metadata": {
        "id": "5WhHmhAqGPHK"
      },
      "outputs": [],
      "source": []
    }
  ],
  "metadata": {
    "accelerator": "GPU",
    "colab": {
      "provenance": []
    },
    "kernelspec": {
      "display_name": "Python 3 (ipykernel)",
      "language": "python",
      "name": "python3"
    },
    "language_info": {
      "codemirror_mode": {
        "name": "ipython",
        "version": 3
      },
      "file_extension": ".py",
      "mimetype": "text/x-python",
      "name": "python",
      "nbconvert_exporter": "python",
      "pygments_lexer": "ipython3",
      "version": "3.9.13"
    }
  },
  "nbformat": 4,
  "nbformat_minor": 0
}