{
  "cells": [
    {
      "cell_type": "markdown",
      "metadata": {
        "id": "Lr2ezc_jpC0B"
      },
      "source": [
        "# Introducción a Keras: Implementando una RNA para clasificación\n",
        "\n",
        "Notebook base por: Santiago Hernández"
      ]
    },
    {
      "cell_type": "markdown",
      "metadata": {
        "id": "DaAPRHMFpC0D"
      },
      "source": [
        "## Pasos en la implementación de una Red Neuronal Artificial en Keras"
      ]
    },
    {
      "cell_type": "markdown",
      "metadata": {
        "id": "p2rMIOCepC0D"
      },
      "source": [
        "1. Define tu conjunto de datos de entrenamiento: vectores de entrada y de salida\n",
        "2. Define la arquitectura de la Red Neuronal Artificial\n",
        "3. Configura el proceso de aprendizaje mediante la seleccion de una funcion de error, una funcion de optimizacion y diferentes metricas para monitorizar el proceso\n",
        "4. Entrena la RNA con tu conjunto de datos de entrenamiento mediante el uso del metodo **_fit()_**"
      ]
    },
    {
      "cell_type": "markdown",
      "metadata": {
        "id": "Pk7rX76SpC0D"
      },
      "source": [
        "## 0. Imports"
      ]
    },
    {
      "cell_type": "markdown",
      "metadata": {
        "id": "67KqRXmipC0E"
      },
      "source": [
        "Lo primero que debe hacerse es importar las librerías específicas necesarias para la implementación de la Red Neuronal Artificial. En las nuevas versiones de Tensorflow y Keras, la recomendación es utilizar keras a través del framework Tensorflow"
      ]
    },
    {
      "cell_type": "code",
      "source": [
        "from google.colab import drive\n",
        "drive.mount('/content/drive')"
      ],
      "metadata": {
        "colab": {
          "base_uri": "https://localhost:8080/"
        },
        "id": "lOmC6rvrpF-e",
        "outputId": "39aa6d57-cab3-4fb2-aaa7-0187d5273cfc"
      },
      "execution_count": 1,
      "outputs": [
        {
          "output_type": "stream",
          "name": "stdout",
          "text": [
            "Mounted at /content/drive\n"
          ]
        }
      ]
    },
    {
      "cell_type": "code",
      "execution_count": 2,
      "metadata": {
        "id": "J-6k1vEdpC0E"
      },
      "outputs": [],
      "source": [
        "import tensorflow as tf\n",
        "\n"
      ]
    },
    {
      "cell_type": "code",
      "execution_count": 3,
      "metadata": {
        "id": "U4Imo0BYpC0F"
      },
      "outputs": [],
      "source": [
        "from tensorflow import keras\n"
      ]
    },
    {
      "cell_type": "markdown",
      "metadata": {
        "id": "6T5fWbEopC0F"
      },
      "source": [
        "## 1. Definicion del conjunto de datos de entrenamiento"
      ]
    },
    {
      "cell_type": "markdown",
      "metadata": {
        "id": "Y4hip3bppC0G"
      },
      "source": [
        "### 1.1. Importando el conjunto de datos"
      ]
    },
    {
      "cell_type": "markdown",
      "metadata": {
        "id": "GkGm52RRpC0G"
      },
      "source": [
        "Keras nos proporciona algunos conjuntos de datos de prueba que podemos utilizar para la realización de pruebas."
      ]
    },
    {
      "cell_type": "code",
      "execution_count": 4,
      "metadata": {
        "id": "Km4I2QFypC0G"
      },
      "outputs": [],
      "source": [
        "from tensorflow.keras import datasets"
      ]
    },
    {
      "cell_type": "markdown",
      "metadata": {
        "id": "nt8S_wGApC0G"
      },
      "source": [
        "Podemos utilizar tab sobre \"datasets\" para visualizar los conjuntos de datos disponibles. En este caso vamos a importar el conjunto de datos MNIST."
      ]
    },
    {
      "cell_type": "code",
      "execution_count": 5,
      "metadata": {
        "id": "GejhtjEgpC0G"
      },
      "outputs": [],
      "source": [
        "mnist = datasets.mnist"
      ]
    },
    {
      "cell_type": "markdown",
      "metadata": {
        "id": "hfZp_3d4pC0G"
      },
      "source": [
        "Podemos utilizar shift + tab sobre \"load_data()\" para visualizar el input y output del método."
      ]
    },
    {
      "cell_type": "code",
      "execution_count": 6,
      "metadata": {
        "colab": {
          "base_uri": "https://localhost:8080/"
        },
        "id": "gKVxoK9OpC0H",
        "outputId": "160cf9e4-f7b8-491f-fbb1-3248ff1f0518"
      },
      "outputs": [
        {
          "output_type": "stream",
          "name": "stdout",
          "text": [
            "Downloading data from https://storage.googleapis.com/tensorflow/tf-keras-datasets/mnist.npz\n",
            "\u001b[1m11490434/11490434\u001b[0m \u001b[32m━━━━━━━━━━━━━━━━━━━━\u001b[0m\u001b[37m\u001b[0m \u001b[1m0s\u001b[0m 0us/step\n"
          ]
        }
      ],
      "source": [
        "(X_train, y_train), (X_test, y_test) = mnist.load_data()"
      ]
    },
    {
      "cell_type": "markdown",
      "metadata": {
        "id": "XZD2oD9NpC0H"
      },
      "source": [
        "El conjunto de datos importado esta formado por un total de 70000 imágenes divididas en dos conjuntos de datos, el conjunto de datos de entrenamiento X_train (60000 imágenes) y el conjunto de datos de pruebas (10000 imágenes)."
      ]
    },
    {
      "cell_type": "code",
      "execution_count": 7,
      "metadata": {
        "colab": {
          "base_uri": "https://localhost:8080/"
        },
        "id": "BZZmT4cfpC0H",
        "outputId": "47e6e968-35e6-41cf-fbda-dd1f2a7f13c0"
      },
      "outputs": [
        {
          "output_type": "execute_result",
          "data": {
            "text/plain": [
              "(60000, 28, 28)"
            ]
          },
          "metadata": {},
          "execution_count": 7
        }
      ],
      "source": [
        "X_train.shape"
      ]
    },
    {
      "cell_type": "code",
      "execution_count": 8,
      "metadata": {
        "colab": {
          "base_uri": "https://localhost:8080/"
        },
        "id": "_8qMzxPXpC0H",
        "outputId": "2ca046d7-de5d-4801-f249-c3662d08a007"
      },
      "outputs": [
        {
          "output_type": "execute_result",
          "data": {
            "text/plain": [
              "(10000, 28, 28)"
            ]
          },
          "metadata": {},
          "execution_count": 8
        }
      ],
      "source": [
        "X_test.shape"
      ]
    },
    {
      "cell_type": "markdown",
      "metadata": {
        "id": "fc6bXQV5pC0H"
      },
      "source": [
        "Las etiquetas se corresponden con el valor numérico que representa la imágen."
      ]
    },
    {
      "cell_type": "code",
      "execution_count": 9,
      "metadata": {
        "colab": {
          "base_uri": "https://localhost:8080/"
        },
        "id": "QFjwrmNlpC0H",
        "outputId": "92b7d007-5bf9-4ace-d280-73b9355b0eea"
      },
      "outputs": [
        {
          "output_type": "execute_result",
          "data": {
            "text/plain": [
              "(60000,)"
            ]
          },
          "metadata": {},
          "execution_count": 9
        }
      ],
      "source": [
        "y_train.shape"
      ]
    },
    {
      "cell_type": "code",
      "execution_count": 10,
      "metadata": {
        "colab": {
          "base_uri": "https://localhost:8080/"
        },
        "id": "iik-paMzpC0H",
        "outputId": "3af5e42c-8713-443e-bcf7-fbc5bf9824d9"
      },
      "outputs": [
        {
          "output_type": "execute_result",
          "data": {
            "text/plain": [
              "5"
            ]
          },
          "metadata": {},
          "execution_count": 10
        }
      ],
      "source": [
        "y_train[0]"
      ]
    },
    {
      "cell_type": "markdown",
      "metadata": {
        "id": "xFODolpNpC0H"
      },
      "source": [
        "### 1.2. Visualizando el conjunto de datos"
      ]
    },
    {
      "cell_type": "code",
      "execution_count": 11,
      "metadata": {
        "id": "DUwbF6iepC0I"
      },
      "outputs": [],
      "source": [
        "import numpy as np\n",
        "import matplotlib.pyplot as plt"
      ]
    },
    {
      "cell_type": "code",
      "execution_count": 12,
      "metadata": {
        "colab": {
          "base_uri": "https://localhost:8080/",
          "height": 167
        },
        "id": "ybMrvvh5pC0I",
        "outputId": "9be5dbc9-8f69-417c-abb6-8aff8c2e1a75"
      },
      "outputs": [
        {
          "output_type": "display_data",
          "data": {
            "text/plain": [
              "<Figure size 2000x400 with 8 Axes>"
            ],
            "image/png": "[encoded data removed]"
          },
          "metadata": {}
        }
      ],
      "source": [
        "# Visualizacion de los primeros 8 ejemplos de nuestro conjunto de datos de entrenamiento\n",
        "plt.figure(figsize=(20, 4))\n",
        "\n",
        "for index, digit in zip(range(1, 9), X_train[:8]):\n",
        "    plt.subplot(1, 8, index)\n",
        "    plt.imshow(np.reshape(digit, (28,28)), cmap=plt.cm.gray)\n",
        "    plt.title('Ejemplo: ' + str(index))\n",
        "plt.show()"
      ]
    },
    {
      "cell_type": "markdown",
      "metadata": {
        "id": "xKekbIjMpC0I"
      },
      "source": [
        "### 1.3. División del conjunto de datos"
      ]
    },
    {
      "cell_type": "markdown",
      "metadata": {
        "id": "Y990m4xjpC0I"
      },
      "source": [
        "Para la realización de una serie de pruebas adicionales vamos a dividir el conjunto de datos de prueba en dos subconjuntos, el conjunto de validación (X_val) y el conjunto de pruebas (X_test)"
      ]
    },
    {
      "cell_type": "code",
      "execution_count": 13,
      "metadata": {
        "id": "w9mTc-gHpC0I"
      },
      "outputs": [],
      "source": [
        "from sklearn.model_selection import train_test_split\n",
        "\n",
        "X_test, X_val, y_test, y_val = train_test_split(X_test, y_test, test_size=0.5)"
      ]
    },
    {
      "cell_type": "code",
      "execution_count": 14,
      "metadata": {
        "colab": {
          "base_uri": "https://localhost:8080/"
        },
        "id": "FZo1LOwNpC0I",
        "outputId": "c3106585-26ff-4182-9424-811783093215"
      },
      "outputs": [
        {
          "output_type": "execute_result",
          "data": {
            "text/plain": [
              "(5000, 28, 28)"
            ]
          },
          "metadata": {},
          "execution_count": 14
        }
      ],
      "source": [
        "X_test.shape"
      ]
    },
    {
      "cell_type": "code",
      "execution_count": 15,
      "metadata": {
        "colab": {
          "base_uri": "https://localhost:8080/"
        },
        "id": "gdqh8kP0pC0I",
        "outputId": "ac4c720f-9d12-408e-cbab-d8b0f53023d8"
      },
      "outputs": [
        {
          "output_type": "execute_result",
          "data": {
            "text/plain": [
              "(5000, 28, 28)"
            ]
          },
          "metadata": {},
          "execution_count": 15
        }
      ],
      "source": [
        "X_val.shape"
      ]
    },
    {
      "cell_type": "markdown",
      "metadata": {
        "id": "oGvyYgcBpC0J"
      },
      "source": [
        "## 2. Definicion de la arquitectura de la Red Neuronal Artificial"
      ]
    },
    {
      "cell_type": "markdown",
      "metadata": {
        "id": "GGiZZY0FpC0J"
      },
      "source": [
        "Tal y como podéis observar en la definición de la Red Neuronal Artificial que se muestra a continuación, el bloque básico que utiliza Keras es la **layer** o capa. La red Neuronal estará formada por diferentes capas que a su vez contendrán un conjunto de neuronas que se corresponden con el primer parámetro que se le proporciona."
      ]
    },
    {
      "cell_type": "code",
      "execution_count": 16,
      "metadata": {
        "id": "Qjpl1wbTpC0J"
      },
      "outputs": [],
      "source": [
        "from tensorflow.keras import models\n",
        "from tensorflow.keras import layers"
      ]
    },
    {
      "cell_type": "markdown",
      "metadata": {
        "id": "uQuW7EEKpC0J"
      },
      "source": [
        "Definimos una Red Neuronal Artificial formada por 3 capas:\n",
        "* La primera capa estará formada por 300 neuronas\n",
        "* La segunda capa estará formada por 100 neuronas\n",
        "* La última capa estará formada por 10 neuronas"
      ]
    },
    {
      "cell_type": "code",
      "execution_count": 17,
      "metadata": {
        "colab": {
          "base_uri": "https://localhost:8080/"
        },
        "id": "Xj5EV4KspC0J",
        "outputId": "831b66aa-05c4-48b7-edc6-90989b35b52e"
      },
      "outputs": [
        {
          "output_type": "stream",
          "name": "stderr",
          "text": [
            "/usr/local/lib/python3.10/dist-packages/keras/src/layers/core/dense.py:87: UserWarning: Do not pass an `input_shape`/`input_dim` argument to a layer. When using Sequential models, prefer using an `Input(shape)` object as the first layer in the model instead.\n",
            "  super().__init__(activity_regularizer=activity_regularizer, **kwargs)\n"
          ]
        }
      ],
      "source": [
        "network = models.Sequential()\n",
        "\n",
        "network.add(layers.Dense(300, activation='relu', input_shape=(28*28,)))\n",
        "network.add(layers.Dense(100, activation='relu'))\n",
        "network.add(layers.Dense(10, activation='softmax'))"
      ]
    },
    {
      "cell_type": "markdown",
      "metadata": {
        "id": "sYFif4WQpC0J"
      },
      "source": [
        "Una vez hemos definido la arquitectura de la Red Neuronal Artificial podemos visualizarla junto con el número total de parámetros utilizando el método *summary()*"
      ]
    },
    {
      "cell_type": "code",
      "execution_count": 18,
      "metadata": {
        "colab": {
          "base_uri": "https://localhost:8080/",
          "height": 230
        },
        "id": "nKC2kVJppC0J",
        "outputId": "3e8ec726-59e6-41f0-d77c-86d475907e9d"
      },
      "outputs": [
        {
          "output_type": "display_data",
          "data": {
            "text/plain": [
              "\u001b[1mModel: \"sequential\"\u001b[0m\n"
            ],
            "text/html": [
              "<pre style=\"white-space:pre;overflow-x:auto;line-height:normal;font-family:Menlo,'DejaVu Sans Mono',consolas,'Courier New',monospace\"><span style=\"font-weight: bold\">Model: \"sequential\"</span>\n",
              "</pre>\n"
            ]
          },
          "metadata": {}
        },
        {
          "output_type": "display_data",
          "data": {
            "text/plain": [
              "┏━━━━━━━━━━━━━━━━━━━━━━━━━━━━━━━━━━━━━━┳━━━━━━━━━━━━━━━━━━━━━━━━━━━━━┳━━━━━━━━━━━━━━━━━┓\n",
              "┃\u001b[1m \u001b[0m\u001b[1mLayer (type)                        \u001b[0m\u001b[1m \u001b[0m┃\u001b[1m \u001b[0m\u001b[1mOutput Shape               \u001b[0m\u001b[1m \u001b[0m┃\u001b[1m \u001b[0m\u001b[1m        Param #\u001b[0m\u001b[1m \u001b[0m┃\n",
              "┡━━━━━━━━━━━━━━━━━━━━━━━━━━━━━━━━━━━━━━╇━━━━━━━━━━━━━━━━━━━━━━━━━━━━━╇━━━━━━━━━━━━━━━━━┩\n",
              "│ dense (\u001b[38;5;33mDense\u001b[0m)                        │ (\u001b[38;5;45mNone\u001b[0m, \u001b[38;5;34m300\u001b[0m)                 │         \u001b[38;5;34m235,500\u001b[0m │\n",
              "├──────────────────────────────────────┼─────────────────────────────┼─────────────────┤\n",
              "│ dense_1 (\u001b[38;5;33mDense\u001b[0m)                      │ (\u001b[38;5;45mNone\u001b[0m, \u001b[38;5;34m100\u001b[0m)                 │          \u001b[38;5;34m30,100\u001b[0m │\n",
              "├──────────────────────────────────────┼─────────────────────────────┼─────────────────┤\n",
              "│ dense_2 (\u001b[38;5;33mDense\u001b[0m)                      │ (\u001b[38;5;45mNone\u001b[0m, \u001b[38;5;34m10\u001b[0m)                  │           \u001b[38;5;34m1,010\u001b[0m │\n",
              "└──────────────────────────────────────┴─────────────────────────────┴─────────────────┘\n"
            ],
            "text/html": [
              "<pre style=\"white-space:pre;overflow-x:auto;line-height:normal;font-family:Menlo,'DejaVu Sans Mono',consolas,'Courier New',monospace\">┏━━━━━━━━━━━━━━━━━━━━━━━━━━━━━━━━━━━━━━┳━━━━━━━━━━━━━━━━━━━━━━━━━━━━━┳━━━━━━━━━━━━━━━━━┓\n",
              "┃<span style=\"font-weight: bold\"> Layer (type)                         </span>┃<span style=\"font-weight: bold\"> Output Shape                </span>┃<span style=\"font-weight: bold\">         Param # </span>┃\n",
              "┡━━━━━━━━━━━━━━━━━━━━━━━━━━━━━━━━━━━━━━╇━━━━━━━━━━━━━━━━━━━━━━━━━━━━━╇━━━━━━━━━━━━━━━━━┩\n",
              "│ dense (<span style=\"color: #0087ff; text-decoration-color: #0087ff\">Dense</span>)                        │ (<span style=\"color: #00d7ff; text-decoration-color: #00d7ff\">None</span>, <span style=\"color: #00af00; text-decoration-color: #00af00\">300</span>)                 │         <span style=\"color: #00af00; text-decoration-color: #00af00\">235,500</span> │\n",
              "├──────────────────────────────────────┼─────────────────────────────┼─────────────────┤\n",
              "│ dense_1 (<span style=\"color: #0087ff; text-decoration-color: #0087ff\">Dense</span>)                      │ (<span style=\"color: #00d7ff; text-decoration-color: #00d7ff\">None</span>, <span style=\"color: #00af00; text-decoration-color: #00af00\">100</span>)                 │          <span style=\"color: #00af00; text-decoration-color: #00af00\">30,100</span> │\n",
              "├──────────────────────────────────────┼─────────────────────────────┼─────────────────┤\n",
              "│ dense_2 (<span style=\"color: #0087ff; text-decoration-color: #0087ff\">Dense</span>)                      │ (<span style=\"color: #00d7ff; text-decoration-color: #00d7ff\">None</span>, <span style=\"color: #00af00; text-decoration-color: #00af00\">10</span>)                  │           <span style=\"color: #00af00; text-decoration-color: #00af00\">1,010</span> │\n",
              "└──────────────────────────────────────┴─────────────────────────────┴─────────────────┘\n",
              "</pre>\n"
            ]
          },
          "metadata": {}
        },
        {
          "output_type": "display_data",
          "data": {
            "text/plain": [
              "\u001b[1m Total params: \u001b[0m\u001b[38;5;34m266,610\u001b[0m (1.02 MB)\n"
            ],
            "text/html": [
              "<pre style=\"white-space:pre;overflow-x:auto;line-height:normal;font-family:Menlo,'DejaVu Sans Mono',consolas,'Courier New',monospace\"><span style=\"font-weight: bold\"> Total params: </span><span style=\"color: #00af00; text-decoration-color: #00af00\">266,610</span> (1.02 MB)\n",
              "</pre>\n"
            ]
          },
          "metadata": {}
        },
        {
          "output_type": "display_data",
          "data": {
            "text/plain": [
              "\u001b[1m Trainable params: \u001b[0m\u001b[38;5;34m266,610\u001b[0m (1.02 MB)\n"
            ],
            "text/html": [
              "<pre style=\"white-space:pre;overflow-x:auto;line-height:normal;font-family:Menlo,'DejaVu Sans Mono',consolas,'Courier New',monospace\"><span style=\"font-weight: bold\"> Trainable params: </span><span style=\"color: #00af00; text-decoration-color: #00af00\">266,610</span> (1.02 MB)\n",
              "</pre>\n"
            ]
          },
          "metadata": {}
        },
        {
          "output_type": "display_data",
          "data": {
            "text/plain": [
              "\u001b[1m Non-trainable params: \u001b[0m\u001b[38;5;34m0\u001b[0m (0.00 B)\n"
            ],
            "text/html": [
              "<pre style=\"white-space:pre;overflow-x:auto;line-height:normal;font-family:Menlo,'DejaVu Sans Mono',consolas,'Courier New',monospace\"><span style=\"font-weight: bold\"> Non-trainable params: </span><span style=\"color: #00af00; text-decoration-color: #00af00\">0</span> (0.00 B)\n",
              "</pre>\n"
            ]
          },
          "metadata": {}
        }
      ],
      "source": [
        "network.summary()"
      ]
    },
    {
      "cell_type": "markdown",
      "metadata": {
        "id": "tespVL8-pC0J"
      },
      "source": [
        "### 2.2. Acceso a los elementos definidos de la RNA"
      ]
    },
    {
      "cell_type": "code",
      "execution_count": 19,
      "metadata": {
        "colab": {
          "base_uri": "https://localhost:8080/"
        },
        "id": "y2bQAEUNpC0K",
        "outputId": "d51d2d53-b897-4138-e3ad-a513cc90b277"
      },
      "outputs": [
        {
          "output_type": "execute_result",
          "data": {
            "text/plain": [
              "[<Dense name=dense, built=True>,\n",
              " <Dense name=dense_1, built=True>,\n",
              " <Dense name=dense_2, built=True>]"
            ]
          },
          "metadata": {},
          "execution_count": 19
        }
      ],
      "source": [
        "network.layers"
      ]
    },
    {
      "cell_type": "markdown",
      "metadata": {
        "id": "qWvZITKKpC0K"
      },
      "source": [
        "En este caso vamos a acceder a los parámetros del modelo que componen las neuronas de la primera hidden layer"
      ]
    },
    {
      "cell_type": "code",
      "execution_count": 20,
      "metadata": {
        "id": "DyI0j8IupC0Q"
      },
      "outputs": [],
      "source": [
        "hidden1 = network.layers[1]"
      ]
    },
    {
      "cell_type": "code",
      "execution_count": 21,
      "metadata": {
        "id": "4q8HCyXqpC0Q"
      },
      "outputs": [],
      "source": [
        "weights, biases = hidden1.get_weights()"
      ]
    },
    {
      "cell_type": "markdown",
      "metadata": {
        "id": "mKWiVIWwpC0Q"
      },
      "source": [
        "Como puede observarse en las siguientes celdas, Keras automáticamente inicializa el valor de los parámetros de manera aleatoria y los bias term con el valor 0"
      ]
    },
    {
      "cell_type": "code",
      "execution_count": 22,
      "metadata": {
        "colab": {
          "base_uri": "https://localhost:8080/"
        },
        "id": "1IqZofRfpC0Q",
        "outputId": "f0da3c48-b3bd-4f04-9491-d472f0357e69"
      },
      "outputs": [
        {
          "output_type": "execute_result",
          "data": {
            "text/plain": [
              "array([[-0.04648244,  0.11757188, -0.00224187, ..., -0.08698262,\n",
              "        -0.02029603,  0.01809714],\n",
              "       [-0.01908667,  0.06852836, -0.04328342, ...,  0.05241022,\n",
              "        -0.05715786, -0.11091682],\n",
              "       [-0.01517329,  0.06391603, -0.04604322, ..., -0.06936097,\n",
              "        -0.04220946, -0.11204946],\n",
              "       ...,\n",
              "       [ 0.02573512,  0.0923151 , -0.10300765, ...,  0.04111915,\n",
              "         0.03006875,  0.09470081],\n",
              "       [-0.0218228 ,  0.05805769, -0.0129168 , ..., -0.01230948,\n",
              "         0.02683424, -0.07088861],\n",
              "       [-0.04032453, -0.01071755,  0.05357154, ..., -0.0235659 ,\n",
              "        -0.04620881, -0.05096085]], dtype=float32)"
            ]
          },
          "metadata": {},
          "execution_count": 22
        }
      ],
      "source": [
        "weights"
      ]
    },
    {
      "cell_type": "code",
      "execution_count": 23,
      "metadata": {
        "colab": {
          "base_uri": "https://localhost:8080/"
        },
        "id": "hKv_GGsGpC0Q",
        "outputId": "790ef5af-16cc-4a8b-f332-e316fc46d842"
      },
      "outputs": [
        {
          "output_type": "execute_result",
          "data": {
            "text/plain": [
              "array([0., 0., 0., 0., 0., 0., 0., 0., 0., 0., 0., 0., 0., 0., 0., 0., 0.,\n",
              "       0., 0., 0., 0., 0., 0., 0., 0., 0., 0., 0., 0., 0., 0., 0., 0., 0.,\n",
              "       0., 0., 0., 0., 0., 0., 0., 0., 0., 0., 0., 0., 0., 0., 0., 0., 0.,\n",
              "       0., 0., 0., 0., 0., 0., 0., 0., 0., 0., 0., 0., 0., 0., 0., 0., 0.,\n",
              "       0., 0., 0., 0., 0., 0., 0., 0., 0., 0., 0., 0., 0., 0., 0., 0., 0.,\n",
              "       0., 0., 0., 0., 0., 0., 0., 0., 0., 0., 0., 0., 0., 0., 0.],\n",
              "      dtype=float32)"
            ]
          },
          "metadata": {},
          "execution_count": 23
        }
      ],
      "source": [
        "biases"
      ]
    },
    {
      "cell_type": "markdown",
      "metadata": {
        "id": "Dbtdsu68pC0R"
      },
      "source": [
        "## 3. Configuracion de la Red Neuronal Artificial"
      ]
    },
    {
      "cell_type": "markdown",
      "metadata": {
        "id": "qqeWK15KpC0R"
      },
      "source": [
        "Para que la Red Neuronal Artificial funcione adecuadamente va a requerir tres componentes adicionales que se seleccionan durante el proceso de compilación:\n",
        "1. **La función de error**: Se utiliza en el proceso de optimización de los parámetros del modelo para medir el error  producido al modificar el valor de los parámetros del modelo en una dirección determinada\n",
        "2. **La función de optimización**: Se corresponde con la función encargada de actualizar el valor de los parámetros del modelo en una dirección determinada en función del resultado de la función de error\n",
        "3. **Metricas para monitorizar el proceso de entrenamiento**: Es interesante utilizar un conjunto de métricas durante el proceso de entrenamiento de la Red Neuronal Artificial de manera que podamos saber en cada iteración si el valor de los parámetros del modelo es adecuado o se están produciendo problemas como *overfitting*"
      ]
    },
    {
      "cell_type": "markdown",
      "metadata": {
        "id": "FGcoDXZYpC0R"
      },
      "source": [
        "### Categorical crossentropy\n",
        "\n",
        "https://peltarion.com/knowledge-center/documentation/modeling-view/build-an-ai-model/loss-functions/categorical-crossentropy"
      ]
    },
    {
      "cell_type": "code",
      "execution_count": 24,
      "metadata": {
        "id": "xgoZS4ZKpC0R"
      },
      "outputs": [],
      "source": [
        "network.compile(loss='categorical_crossentropy',\n",
        "                optimizer='sgd',\n",
        "                metrics=['accuracy', 'Precision'])"
      ]
    },
    {
      "cell_type": "markdown",
      "metadata": {
        "id": "9hFYzciepC0R"
      },
      "source": [
        "## 4. Preparacion del conjunto de datos"
      ]
    },
    {
      "cell_type": "markdown",
      "metadata": {
        "id": "XgqKA8dNpC0R"
      },
      "source": [
        "Debido a la forma en la que hemos definido la arquitectura de nuestra Red Neuronal Artificial y los parámetros de compilación, vamos a requerir realizar algunas transformaciones sobre nuestro conjunto de datos"
      ]
    },
    {
      "cell_type": "markdown",
      "metadata": {
        "id": "gvWZLCuCpC0R"
      },
      "source": [
        "### 4.1. Preparación de las características de entrada"
      ]
    },
    {
      "cell_type": "code",
      "execution_count": 25,
      "metadata": {
        "id": "1WKv_O58pC0R"
      },
      "outputs": [],
      "source": [
        "X_train_prep = X_train.reshape((60000, 28*28))\n",
        "X_train_prep = X_train_prep.astype('float32') / 255\n",
        "\n",
        "X_test_prep = X_test.reshape((5000, 28*28))\n",
        "X_test_prep = X_test_prep.astype('float32') / 255\n",
        "\n",
        "X_val_prep = X_val.reshape((5000, 28*28))\n",
        "X_val_prep = X_val_prep.astype('float32') / 255"
      ]
    },
    {
      "cell_type": "code",
      "execution_count": 26,
      "metadata": {
        "colab": {
          "base_uri": "https://localhost:8080/"
        },
        "id": "CAU1HA93pC0S",
        "outputId": "deb4e903-d5a2-4b0d-cd95-d770b5345906"
      },
      "outputs": [
        {
          "output_type": "execute_result",
          "data": {
            "text/plain": [
              "(60000, 28, 28)"
            ]
          },
          "metadata": {},
          "execution_count": 26
        }
      ],
      "source": [
        "X_train.shape"
      ]
    },
    {
      "cell_type": "code",
      "execution_count": 27,
      "metadata": {
        "colab": {
          "base_uri": "https://localhost:8080/"
        },
        "id": "q1Z4VlLzpC0S",
        "outputId": "9c9c05cb-5339-4b4b-8dc9-e923da74a2a8"
      },
      "outputs": [
        {
          "output_type": "execute_result",
          "data": {
            "text/plain": [
              "(60000, 784)"
            ]
          },
          "metadata": {},
          "execution_count": 27
        }
      ],
      "source": [
        "X_train_prep.shape"
      ]
    },
    {
      "cell_type": "markdown",
      "metadata": {
        "id": "IBDxf-yTpC0S"
      },
      "source": [
        "### 4.2. Preparación de las características de salida (etiquetas)"
      ]
    },
    {
      "cell_type": "code",
      "execution_count": 28,
      "metadata": {
        "id": "-D6AgBLVpC0S"
      },
      "outputs": [],
      "source": [
        "from tensorflow.keras.utils import to_categorical\n",
        "\n",
        "y_train_prep = to_categorical(y_train)\n",
        "y_test_prep = to_categorical(y_test)\n",
        "y_val_prep = to_categorical(y_val)"
      ]
    },
    {
      "cell_type": "code",
      "execution_count": 29,
      "metadata": {
        "colab": {
          "base_uri": "https://localhost:8080/"
        },
        "id": "CB6MqCFOpC0S",
        "outputId": "4a9227b5-719f-4b34-8d88-68707788817e"
      },
      "outputs": [
        {
          "output_type": "execute_result",
          "data": {
            "text/plain": [
              "array([5, 0, 4, ..., 5, 6, 8], dtype=uint8)"
            ]
          },
          "metadata": {},
          "execution_count": 29
        }
      ],
      "source": [
        "y_train"
      ]
    },
    {
      "cell_type": "code",
      "execution_count": 30,
      "metadata": {
        "colab": {
          "base_uri": "https://localhost:8080/"
        },
        "id": "TroyluqXpC0S",
        "outputId": "04a40993-d977-4263-ba1a-a878d4163cf6"
      },
      "outputs": [
        {
          "output_type": "execute_result",
          "data": {
            "text/plain": [
              "array([[0., 0., 0., ..., 0., 0., 0.],\n",
              "       [1., 0., 0., ..., 0., 0., 0.],\n",
              "       [0., 0., 0., ..., 0., 0., 0.],\n",
              "       ...,\n",
              "       [0., 0., 0., ..., 0., 0., 0.],\n",
              "       [0., 0., 0., ..., 0., 0., 0.],\n",
              "       [0., 0., 0., ..., 0., 1., 0.]])"
            ]
          },
          "metadata": {},
          "execution_count": 30
        }
      ],
      "source": [
        "y_train_prep"
      ]
    },
    {
      "cell_type": "markdown",
      "metadata": {
        "id": "1veXHwkSpC0T"
      },
      "source": [
        "## 5. Entrenamiento de la Red Neuronal Artificial"
      ]
    },
    {
      "cell_type": "markdown",
      "metadata": {
        "id": "VE-DE4NkpC0T"
      },
      "source": [
        "En este punto ya estamos listos para entrenar nuestra Red Neuronal Artificial invocando el método *fit()*. Una de las capacidades que nos proporciona Keras es la de integrar el proceso de validación en el propio proceso de entrenamiento, para ello, junto con el subconjunto de datos de entrenamiento, debemos proporcionarle a este método el subconjunto de validación."
      ]
    },
    {
      "cell_type": "code",
      "execution_count": 31,
      "metadata": {
        "colab": {
          "base_uri": "https://localhost:8080/"
        },
        "id": "zX8SR_r0pC0T",
        "outputId": "990a026b-87b6-42e5-b69c-746db4d1399a"
      },
      "outputs": [
        {
          "output_type": "stream",
          "name": "stdout",
          "text": [
            "Epoch 1/10\n",
            "\u001b[1m1875/1875\u001b[0m \u001b[32m━━━━━━━━━━━━━━━━━━━━\u001b[0m\u001b[37m\u001b[0m \u001b[1m4s\u001b[0m 2ms/step - Precision: 0.8920 - accuracy: 0.7358 - loss: 1.0147 - val_Precision: 0.9471 - val_accuracy: 0.9210 - val_loss: 0.2896\n",
            "Epoch 2/10\n",
            "\u001b[1m1875/1875\u001b[0m \u001b[32m━━━━━━━━━━━━━━━━━━━━\u001b[0m\u001b[37m\u001b[0m \u001b[1m7s\u001b[0m 3ms/step - Precision: 0.9408 - accuracy: 0.9158 - loss: 0.2957 - val_Precision: 0.9582 - val_accuracy: 0.9392 - val_loss: 0.2237\n",
            "Epoch 3/10\n",
            "\u001b[1m1875/1875\u001b[0m \u001b[32m━━━━━━━━━━━━━━━━━━━━\u001b[0m\u001b[37m\u001b[0m \u001b[1m6s\u001b[0m 3ms/step - Precision: 0.9516 - accuracy: 0.9316 - loss: 0.2353 - val_Precision: 0.9595 - val_accuracy: 0.9460 - val_loss: 0.1899\n",
            "Epoch 4/10\n",
            "\u001b[1m1875/1875\u001b[0m \u001b[32m━━━━━━━━━━━━━━━━━━━━\u001b[0m\u001b[37m\u001b[0m \u001b[1m9s\u001b[0m 2ms/step - Precision: 0.9582 - accuracy: 0.9441 - loss: 0.1967 - val_Precision: 0.9631 - val_accuracy: 0.9508 - val_loss: 0.1724\n",
            "Epoch 5/10\n",
            "\u001b[1m1875/1875\u001b[0m \u001b[32m━━━━━━━━━━━━━━━━━━━━\u001b[0m\u001b[37m\u001b[0m \u001b[1m4s\u001b[0m 2ms/step - Precision: 0.9641 - accuracy: 0.9517 - loss: 0.1722 - val_Precision: 0.9675 - val_accuracy: 0.9546 - val_loss: 0.1491\n",
            "Epoch 6/10\n",
            "\u001b[1m1875/1875\u001b[0m \u001b[32m━━━━━━━━━━━━━━━━━━━━\u001b[0m\u001b[37m\u001b[0m \u001b[1m6s\u001b[0m 3ms/step - Precision: 0.9677 - accuracy: 0.9573 - loss: 0.1518 - val_Precision: 0.9689 - val_accuracy: 0.9602 - val_loss: 0.1331\n",
            "Epoch 7/10\n",
            "\u001b[1m1875/1875\u001b[0m \u001b[32m━━━━━━━━━━━━━━━━━━━━\u001b[0m\u001b[37m\u001b[0m \u001b[1m9s\u001b[0m 2ms/step - Precision: 0.9696 - accuracy: 0.9608 - loss: 0.1380 - val_Precision: 0.9723 - val_accuracy: 0.9640 - val_loss: 0.1226\n",
            "Epoch 8/10\n",
            "\u001b[1m1875/1875\u001b[0m \u001b[32m━━━━━━━━━━━━━━━━━━━━\u001b[0m\u001b[37m\u001b[0m \u001b[1m5s\u001b[0m 2ms/step - Precision: 0.9741 - accuracy: 0.9659 - loss: 0.1200 - val_Precision: 0.9720 - val_accuracy: 0.9652 - val_loss: 0.1163\n",
            "Epoch 9/10\n",
            "\u001b[1m1875/1875\u001b[0m \u001b[32m━━━━━━━━━━━━━━━━━━━━\u001b[0m\u001b[37m\u001b[0m \u001b[1m5s\u001b[0m 2ms/step - Precision: 0.9763 - accuracy: 0.9686 - loss: 0.1092 - val_Precision: 0.9757 - val_accuracy: 0.9684 - val_loss: 0.1076\n",
            "Epoch 10/10\n",
            "\u001b[1m1875/1875\u001b[0m \u001b[32m━━━━━━━━━━━━━━━━━━━━\u001b[0m\u001b[37m\u001b[0m \u001b[1m6s\u001b[0m 2ms/step - Precision: 0.9789 - accuracy: 0.9729 - loss: 0.0971 - val_Precision: 0.9759 - val_accuracy: 0.9688 - val_loss: 0.1046\n"
          ]
        }
      ],
      "source": [
        "history = network.fit(X_train_prep,\n",
        "                      y_train_prep,\n",
        "                      epochs=10,\n",
        "                      validation_data=(X_val_prep, y_val_prep))"
      ]
    },
    {
      "cell_type": "markdown",
      "metadata": {
        "id": "wQpELdO6pC0T"
      },
      "source": [
        "En la variable ***history*** se almacenan varios valores importantes:\n",
        "* El valor de los parámetros del modelo después del entrenamiento\n",
        "* La lista de *epochs* llevados a cabo\n",
        "* Un diccionario con el error producido en cada *epoch* en el conjunto de datos de entreanamiento y validación"
      ]
    },
    {
      "cell_type": "code",
      "execution_count": 32,
      "metadata": {
        "colab": {
          "base_uri": "https://localhost:8080/",
          "height": 624
        },
        "id": "0WgeUXvnpC0T",
        "outputId": "d947f4a1-742b-4445-89a7-20f4d1724d64"
      },
      "outputs": [
        {
          "output_type": "display_data",
          "data": {
            "text/plain": [
              "<Figure size 1000x700 with 1 Axes>"
            ],
            "image/png": "[encoded data removed]"
          },
          "metadata": {}
        }
      ],
      "source": [
        "import pandas as pd\n",
        "import matplotlib.pyplot as plt\n",
        "\n",
        "pd.DataFrame(history.history).plot(figsize=(10, 7))\n",
        "plt.grid(True)\n",
        "plt.gca().set_ylim(0, 1.2)\n",
        "plt.xlabel(\"epochs\")\n",
        "plt.show()"
      ]
    },
    {
      "cell_type": "markdown",
      "metadata": {
        "id": "1fRAIRS8pC0T"
      },
      "source": [
        "Debido a que en la gráfica anterior se observa que el error en el conjunto de datos y de validación sigue disminuyendo, podemos continuar entrenando el algoritmo invocando de nuevo el método *fit()*. Keras continuará el entrenamiento en el punto en el que lo dejó."
      ]
    },
    {
      "cell_type": "markdown",
      "metadata": {
        "id": "klYm1Lv7pC0U"
      },
      "source": [
        "## 6. Validación con el conjunto de datos de pruebas"
      ]
    },
    {
      "cell_type": "code",
      "execution_count": 33,
      "metadata": {
        "colab": {
          "base_uri": "https://localhost:8080/"
        },
        "id": "W9f6gqx8pC0U",
        "outputId": "98c077c7-e14f-41e9-9a69-349d31cface6"
      },
      "outputs": [
        {
          "output_type": "stream",
          "name": "stdout",
          "text": [
            "\u001b[1m157/157\u001b[0m \u001b[32m━━━━━━━━━━━━━━━━━━━━\u001b[0m\u001b[37m\u001b[0m \u001b[1m0s\u001b[0m 1ms/step - Precision: 0.9709 - accuracy: 0.9658 - loss: 0.1092\n"
          ]
        }
      ],
      "source": [
        "test_loss, test_acc, test_prec = network.evaluate(X_test_prep, y_test_prep)"
      ]
    },
    {
      "cell_type": "code",
      "execution_count": 34,
      "metadata": {
        "colab": {
          "base_uri": "https://localhost:8080/"
        },
        "id": "1rbIpEHopC0U",
        "outputId": "40b7dde4-025f-4fe6-cd57-e8159dbdfb10"
      },
      "outputs": [
        {
          "output_type": "stream",
          "name": "stdout",
          "text": [
            "test_acc: 0.9670000076293945\n",
            "test_prec: 0.9729183316230774\n"
          ]
        }
      ],
      "source": [
        "print('test_acc:', test_acc)\n",
        "print('test_prec:', test_prec)"
      ]
    },
    {
      "cell_type": "markdown",
      "metadata": {
        "id": "v5OuNlQ8pC0U"
      },
      "source": [
        "## 7. Predicción de nuevos ejemplos"
      ]
    },
    {
      "cell_type": "code",
      "execution_count": 35,
      "metadata": {
        "id": "06rn2HX-pC0U"
      },
      "outputs": [],
      "source": [
        "# Suponemos que X_new es un nuevo ejemplo que el algoritmo no ha visto nunca\n",
        "X_new = X_test[34]"
      ]
    },
    {
      "cell_type": "code",
      "execution_count": 36,
      "metadata": {
        "colab": {
          "base_uri": "https://localhost:8080/",
          "height": 430
        },
        "id": "gJyEbw7ZpC0U",
        "outputId": "483960b0-bc18-4d18-9c70-2e61e959ce92"
      },
      "outputs": [
        {
          "output_type": "display_data",
          "data": {
            "text/plain": [
              "<Figure size 640x480 with 1 Axes>"
            ],
            "image/png": "[encoded data removed]"
          },
          "metadata": {}
        }
      ],
      "source": [
        "# Representación gráfica del nuevo ejemplo que queremos predecir\n",
        "plt.imshow(np.reshape(X_new, (28,28)), cmap=plt.cm.gray)\n",
        "plt.show()"
      ]
    },
    {
      "cell_type": "code",
      "execution_count": 37,
      "metadata": {
        "id": "DfqnfXfXpC0U"
      },
      "outputs": [],
      "source": [
        "# Preprocesamos la nueva imagen que queremos predecir\n",
        "X_new_prep = X_new.reshape((1, 28*28))\n",
        "X_new_prep = X_new_prep.astype('float32') / 255"
      ]
    },
    {
      "cell_type": "code",
      "execution_count": 38,
      "metadata": {
        "colab": {
          "base_uri": "https://localhost:8080/"
        },
        "id": "cJ5YO4rKpC0V",
        "outputId": "a047966c-6223-4b3a-fc9d-9e2bfc2390a5"
      },
      "outputs": [
        {
          "output_type": "stream",
          "name": "stdout",
          "text": [
            "\u001b[1m1/1\u001b[0m \u001b[32m━━━━━━━━━━━━━━━━━━━━\u001b[0m\u001b[37m\u001b[0m \u001b[1m0s\u001b[0m 37ms/step\n"
          ]
        }
      ],
      "source": [
        "# Relizamos la prediccion\n",
        "y_proba = network.predict(X_new_prep)"
      ]
    },
    {
      "cell_type": "code",
      "execution_count": 39,
      "metadata": {
        "colab": {
          "base_uri": "https://localhost:8080/"
        },
        "id": "LXGsyeDSpC0V",
        "outputId": "4a43a520-adc5-4e85-c7f9-dddc988cf0bd"
      },
      "outputs": [
        {
          "output_type": "execute_result",
          "data": {
            "text/plain": [
              "array([[1.2752500e-08, 1.2344997e-08, 9.6302756e-06, 1.8985602e-05,\n",
              "        4.7434725e-08, 2.0146746e-08, 1.8351588e-12, 9.9997079e-01,\n",
              "        5.0031082e-07, 1.5425870e-07]], dtype=float32)"
            ]
          },
          "metadata": {},
          "execution_count": 39
        }
      ],
      "source": [
        "y_proba"
      ]
    },
    {
      "cell_type": "code",
      "execution_count": 40,
      "metadata": {
        "colab": {
          "base_uri": "https://localhost:8080/"
        },
        "id": "h6SmB1vBpC0V",
        "outputId": "178d05cc-69c6-4393-8e49-990aa5ab0131"
      },
      "outputs": [
        {
          "output_type": "execute_result",
          "data": {
            "text/plain": [
              "array([[0., 0., 0., 0., 0., 0., 0., 1., 0., 0.]], dtype=float32)"
            ]
          },
          "metadata": {},
          "execution_count": 40
        }
      ],
      "source": [
        "y_proba.round(2)"
      ]
    },
    {
      "cell_type": "code",
      "execution_count": 41,
      "metadata": {
        "colab": {
          "base_uri": "https://localhost:8080/"
        },
        "id": "WjZfYujjpC0V",
        "outputId": "a190aae2-f565-4f6d-a33d-9dee44f5bc6b"
      },
      "outputs": [
        {
          "output_type": "stream",
          "name": "stdout",
          "text": [
            "\u001b[1m1/1\u001b[0m \u001b[32m━━━━━━━━━━━━━━━━━━━━\u001b[0m\u001b[37m\u001b[0m \u001b[1m0s\u001b[0m 15ms/step\n"
          ]
        },
        {
          "output_type": "execute_result",
          "data": {
            "text/plain": [
              "array([7])"
            ]
          },
          "metadata": {},
          "execution_count": 41
        }
      ],
      "source": [
        "# Realizamos la prediccion obteniendo una clase en lugar de una probabilidad\n",
        "np.argmax(network.predict(X_new_prep), axis=-1)"
      ]
    },
    {
      "cell_type": "markdown",
      "metadata": {
        "id": "uBm8nsHWpC0W"
      },
      "source": [
        "Es importante saber que el método tradicional *predict_classes* va a ser deprecado proximamente"
      ]
    },
    {
      "cell_type": "markdown",
      "metadata": {
        "id": "RtySKE02pC0W"
      },
      "source": [
        "## 8. Guardar el modelo en disco"
      ]
    },
    {
      "cell_type": "markdown",
      "metadata": {
        "id": "n4fsDxxkpC0W"
      },
      "source": [
        "Con Keras generamos la arquitectura de la red neuronal, la entrenamos y después la evaluamos. Existen diferentes alternativas a la hora de exportar el modelo entrenado (https://keras.io/getting_started/faq/#what-are-my-options-for-saving-models), en este caso se expone una de las más utilizadas.\n",
        "\n",
        "De la forma que se indica a continuación, vamos a exportar en un fichero los siguientes componentes de la red neuronal:\n",
        "* La arquitectura del modelo\n",
        "* Los parámetros del modelo\n",
        "* Los hiperparámetros del modelo\n",
        "* Las métricas"
      ]
    },
    {
      "cell_type": "code",
      "execution_count": 42,
      "metadata": {
        "colab": {
          "base_uri": "https://localhost:8080/"
        },
        "id": "42nML7MxpC0W",
        "outputId": "a9b23e90-0103-4649-c2e8-8970a032cafc"
      },
      "outputs": [
        {
          "output_type": "stream",
          "name": "stderr",
          "text": [
            "WARNING:absl:You are saving your model as an HDF5 file via `model.save()` or `keras.saving.save_model(model)`. This file format is considered legacy. We recommend using instead the native Keras format, e.g. `model.save('my_model.keras')` or `keras.saving.save_model(model, 'my_model.keras')`. \n"
          ]
        }
      ],
      "source": [
        "# Guardamos el modelo en disco\n",
        "network.save(\"modelo_mnist.h5\")"
      ]
    },
    {
      "cell_type": "markdown",
      "metadata": {
        "id": "o8jsH70hpC0W"
      },
      "source": [
        "Una vez ejecutada la celda anterior, generará un fichero *modelo_mnist* que puede utilizarse para transportarlo a otro sistema y predecir con nuevos ejemplos. La forma en la que puedes importar este fichero para predecir con nuevos ejemplos es la siguiente:"
      ]
    },
    {
      "cell_type": "code",
      "execution_count": 43,
      "metadata": {
        "colab": {
          "base_uri": "https://localhost:8080/"
        },
        "id": "AWXVb_40pC0W",
        "outputId": "84913a11-f38f-413e-d564-0bd6e58e9a25"
      },
      "outputs": [
        {
          "output_type": "stream",
          "name": "stderr",
          "text": [
            "WARNING:absl:Compiled the loaded model, but the compiled metrics have yet to be built. `model.compile_metrics` will be empty until you train or evaluate the model.\n"
          ]
        },
        {
          "output_type": "stream",
          "name": "stdout",
          "text": [
            "\u001b[1m1/1\u001b[0m \u001b[32m━━━━━━━━━━━━━━━━━━━━\u001b[0m\u001b[37m\u001b[0m \u001b[1m0s\u001b[0m 37ms/step\n"
          ]
        }
      ],
      "source": [
        "# Importamos las librerias necesarias\n",
        "from tensorflow.keras.models import load_model\n",
        "\n",
        "# Cargamos el modelo de disco\n",
        "mnist_model = load_model(\"modelo_mnist.h5\")\n",
        "\n",
        "# Realizamos una nueva prediccion\n",
        "y_pred = np.argmax(mnist_model.predict(X_new_prep), axis=-1)"
      ]
    },
    {
      "cell_type": "code",
      "execution_count": 44,
      "metadata": {
        "colab": {
          "base_uri": "https://localhost:8080/"
        },
        "id": "2KrnpgDEpC0W",
        "outputId": "ddb7fe62-6730-45b8-beb3-2f5c7de05e3c"
      },
      "outputs": [
        {
          "output_type": "execute_result",
          "data": {
            "text/plain": [
              "array([7])"
            ]
          },
          "metadata": {},
          "execution_count": 44
        }
      ],
      "source": [
        "y_pred"
      ]
    },
    {
      "cell_type": "code",
      "execution_count": 44,
      "metadata": {
        "id": "_oZB85yzpC0W"
      },
      "outputs": [],
      "source": []
    }
  ],
  "metadata": {
    "kernelspec": {
      "display_name": "Python 3 (ipykernel)",
      "language": "python",
      "name": "python3"
    },
    "language_info": {
      "codemirror_mode": {
        "name": "ipython",
        "version": 3
      },
      "file_extension": ".py",
      "mimetype": "text/x-python",
      "name": "python",
      "nbconvert_exporter": "python",
      "pygments_lexer": "ipython3",
      "version": "3.9.13"
    },
    "colab": {
      "provenance": []
    }
  },
  "nbformat": 4,
  "nbformat_minor": 0
}